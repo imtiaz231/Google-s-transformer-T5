{
  "nbformat": 4,
  "nbformat_minor": 0,
  "metadata": {
    "colab": {
      "provenance": [],
      "gpuType": "T4"
    },
    "kernelspec": {
      "name": "python3",
      "display_name": "Python 3"
    },
    "language_info": {
      "name": "python"
    },
    "accelerator": "GPU"
  },
  "cells": [
    {
      "cell_type": "markdown",
      "source": [
        "# variation of GPT model\n",
        "\n",
        "In this notebook, we'll walk through the steps required to train a GPT model on the wine review dataset,we already downloaded the dataset from kaggle.Downloaded data in json format"
      ],
      "metadata": {
        "id": "zImnYPxLhpZE"
      }
    },
    {
      "cell_type": "markdown",
      "source": [
        "# import the packages"
      ],
      "metadata": {
        "id": "yHjhewoDj4BG"
      }
    },
    {
      "cell_type": "code",
      "source": [
        "%load_ext autoreload\n",
        "%autoreload 2\n",
        "import numpy as np\n",
        "import json\n",
        "import re\n",
        "import string\n",
        "from IPython.display import display, HTML\n",
        "\n",
        "import tensorflow as tf\n",
        "from tensorflow.keras import layers, models, losses, callbacks"
      ],
      "metadata": {
        "id": "bkkvFTF1Y3Js"
      },
      "execution_count": 1,
      "outputs": []
    },
    {
      "cell_type": "markdown",
      "source": [
        "# set the parameter"
      ],
      "metadata": {
        "id": "6_Wx_5g7kJW8"
      }
    },
    {
      "cell_type": "code",
      "source": [
        "VOCAB_SIZE = 10000\n",
        "MAX_LEN = 80\n",
        "EMBEDDING_DIM = 256\n",
        "KEY_DIM = 256\n",
        "N_HEADS = 2\n",
        "FEED_FORWARD_DIM = 256\n",
        "VALIDATION_SPLIT = 0.2\n",
        "SEED = 42\n",
        "LOAD_MODEL = False\n",
        "BATCH_SIZE = 32\n",
        "EPOCHS = 5"
      ],
      "metadata": {
        "id": "HYs9dCZ_-Be2"
      },
      "execution_count": 2,
      "outputs": []
    },
    {
      "cell_type": "markdown",
      "source": [
        " # 1 load the dataset"
      ],
      "metadata": {
        "id": "62EmbKHmmx7u"
      }
    },
    {
      "cell_type": "code",
      "source": [
        "# Load the full dataset of wine review in json format\n",
        "with open(\"winemag-data-130k-v2.json\") as json_data:\n",
        "    wine_data = json.load(json_data)"
      ],
      "metadata": {
        "id": "GjZeMZxRmxPO"
      },
      "execution_count": 3,
      "outputs": []
    },
    {
      "cell_type": "code",
      "source": [
        "def clean_text(text):\n",
        "    \"\"\"Basic text cleaning function\"\"\"\n",
        "    if not isinstance(text, str):\n",
        "        return \"\"\n",
        "    # Remove special characters and extra whitespace\n",
        "    text = re.sub(r'[^\\w\\s]', ' ', text)\n",
        "    text = re.sub(r'\\s+', ' ', text).strip()\n",
        "    return text.lower()"
      ],
      "metadata": {
        "id": "c9koQHSFxWzi"
      },
      "execution_count": 4,
      "outputs": []
    },
    {
      "cell_type": "markdown",
      "source": [
        "# 2 perform data processing for the transformer"
      ],
      "metadata": {
        "id": "TUdeiECvxX4p"
      }
    },
    {
      "cell_type": "code",
      "source": [
        "# Clean each component and rebuild the filtered_data list\n",
        "cleaned_filtered_data = []\n",
        "for x in wine_data:\n",
        "    # Ensure that the required keys exist and are not None\n",
        "    if all(key in x and x[key] is not None for key in ['country', 'province', 'variety', 'description']):\n",
        "        country = clean_text(x['country'])\n",
        "        province = clean_text(x['province'])\n",
        "        variety = clean_text(x['variety'])\n",
        "        description = clean_text(x['description'])\n",
        "\n",
        "        # Create formatted string\n",
        "        review_text = f\"wine review : {country} : {province} : {variety} : {description}\"\n",
        "        cleaned_filtered_data.append(review_text)\n",
        "\n",
        "# Replace the original filtered_data with the cleaned version\n",
        "filtered_data = cleaned_filtered_data\n",
        "\n",
        "# You can now check the number of wines again to ensure the same count\n",
        "n_wines = len(filtered_data)\n",
        "print(f\"{n_wines} recipes loaded after cleaning and re-formatting\")\n",
        "\n",
        "# You can also check an example from the cleaned data\n",
        "example = filtered_data[25]\n",
        "print(example)"
      ],
      "metadata": {
        "colab": {
          "base_uri": "https://localhost:8080/"
        },
        "id": "WxwfSdDb0DUA",
        "outputId": "eee637e5-78f9-4218-f1de-36a1a995d3b2"
      },
      "execution_count": 5,
      "outputs": [
        {
          "output_type": "stream",
          "name": "stdout",
          "text": [
            "129907 recipes loaded after cleaning and re-formatting\n",
            "wine review : us : california : pinot noir : oak and earth intermingle around robust aromas of wet forest floor in this vineyard designated pinot that hails from a high elevation site small in production it offers intense full bodied raspberry and blackberry steeped in smoky spice and smooth texture\n"
          ]
        }
      ]
    },
    {
      "cell_type": "code",
      "source": [
        "# Count the recipes\n",
        "n_wines = len(filtered_data)\n",
        "print(f\"{n_wines} recipes loaded\")"
      ],
      "metadata": {
        "colab": {
          "base_uri": "https://localhost:8080/"
        },
        "id": "6cJjxnd0xUnI",
        "outputId": "9b99fbca-e682-4041-a9fa-05cda7d6b07c"
      },
      "execution_count": 6,
      "outputs": [
        {
          "output_type": "stream",
          "name": "stdout",
          "text": [
            "129907 recipes loaded\n"
          ]
        }
      ]
    },
    {
      "cell_type": "code",
      "source": [
        "example = filtered_data[25]\n",
        "print(example)"
      ],
      "metadata": {
        "colab": {
          "base_uri": "https://localhost:8080/"
        },
        "id": "3I4gRFLA1Ct4",
        "outputId": "6540de43-3919-4a5b-e3a1-ce86e738bbe7"
      },
      "execution_count": 7,
      "outputs": [
        {
          "output_type": "stream",
          "name": "stdout",
          "text": [
            "wine review : us : california : pinot noir : oak and earth intermingle around robust aromas of wet forest floor in this vineyard designated pinot that hails from a high elevation site small in production it offers intense full bodied raspberry and blackberry steeped in smoky spice and smooth texture\n"
          ]
        }
      ]
    },
    {
      "cell_type": "code",
      "source": [
        "# Clean each component\n",
        "country = clean_text(x['country'])\n",
        "province = clean_text(x['province'])\n",
        "variety = clean_text(x['variety'])\n",
        "description = clean_text(x['description'])\n",
        "\n",
        "# Create formatted string\n",
        "review_text = f\"wine review : {country} : {province} : {variety} : {description}\"\n",
        "filtered_data.append(review_text)\n"
      ],
      "metadata": {
        "id": "bspKwkqWyEYD"
      },
      "execution_count": 8,
      "outputs": []
    },
    {
      "cell_type": "markdown",
      "source": [
        "3. Tokenize the data"
      ],
      "metadata": {
        "id": "u7d96E2J1OWY"
      }
    },
    {
      "cell_type": "code",
      "source": [
        "# Pad the punctuation, to treat them as separate 'words'\n",
        "def pad_punctuation(s):\n",
        "    s = re.sub(f\"([{string.punctuation}, '\\n'])\", r\" \\1 \", s)\n",
        "    s = re.sub(\" +\", \" \", s)\n",
        "    return s\n",
        "\n",
        "\n",
        "text_data = [pad_punctuation(x) for x in filtered_data]"
      ],
      "metadata": {
        "id": "Nxnlv49K-B1y"
      },
      "execution_count": 9,
      "outputs": []
    },
    {
      "cell_type": "code",
      "source": [
        "# Display an example of a recipe\n",
        "example_data = text_data[25]\n",
        "example_data"
      ],
      "metadata": {
        "id": "EjEetOZSxM_Q",
        "colab": {
          "base_uri": "https://localhost:8080/",
          "height": 70
        },
        "outputId": "ada56ad3-dc7e-4dff-d9e8-8394772427df"
      },
      "execution_count": 10,
      "outputs": [
        {
          "output_type": "execute_result",
          "data": {
            "text/plain": [
              "'wine review : us : california : pinot noir : oak and earth intermingle around robust aromas of wet forest floor in this vineyard designated pinot that hails from a high elevation site small in production it offers intense full bodied raspberry and blackberry steeped in smoky spice and smooth texture'"
            ],
            "application/vnd.google.colaboratory.intrinsic+json": {
              "type": "string"
            }
          },
          "metadata": {},
          "execution_count": 10
        }
      ]
    },
    {
      "cell_type": "markdown",
      "source": [
        "# Convert to a Tensorflow Dataset after cleaning"
      ],
      "metadata": {
        "id": "FNfZUK_117lc"
      }
    },
    {
      "cell_type": "code",
      "source": [
        "#Convert to a Tensorflow Dataset\n",
        "text_ds = (\n",
        "    tf.data.Dataset.from_tensor_slices(text_data)\n",
        "    .batch(BATCH_SIZE)\n",
        "    .shuffle(1000)\n",
        ")"
      ],
      "metadata": {
        "id": "kMBsq3hYxNCJ"
      },
      "execution_count": 11,
      "outputs": []
    },
    {
      "cell_type": "code",
      "source": [
        "# Create a vectorisation layer\n",
        "vectorize_layer = layers.TextVectorization(\n",
        "    standardize=\"lower\",\n",
        "    max_tokens=VOCAB_SIZE,\n",
        "    output_mode=\"int\",\n",
        "    output_sequence_length=MAX_LEN + 1,\n",
        ")"
      ],
      "metadata": {
        "id": "k6eAvQ2R2WKi"
      },
      "execution_count": 12,
      "outputs": []
    },
    {
      "cell_type": "code",
      "source": [
        "# Adapt the layer to the training set\n",
        "vectorize_layer.adapt(text_ds)\n",
        "vocab = vectorize_layer.get_vocabulary()"
      ],
      "metadata": {
        "id": "pjGdzLmk2WwZ"
      },
      "execution_count": 13,
      "outputs": []
    },
    {
      "cell_type": "code",
      "source": [
        "# Display some token:word mappings\n",
        "for i, word in enumerate(vocab[:10]):\n",
        "    print(f\"{i}: {word}\")"
      ],
      "metadata": {
        "colab": {
          "base_uri": "https://localhost:8080/"
        },
        "id": "IAw_zmAH3FjS",
        "outputId": "12a51909-7528-4147-ceee-03f9de50cac2"
      },
      "execution_count": 14,
      "outputs": [
        {
          "output_type": "stream",
          "name": "stdout",
          "text": [
            "0: \n",
            "1: [UNK]\n",
            "2: :\n",
            "3: and\n",
            "4: the\n",
            "5: wine\n",
            "6: a\n",
            "7: of\n",
            "8: review\n",
            "9: with\n"
          ]
        }
      ]
    },
    {
      "cell_type": "code",
      "source": [
        "# Display the same example converted to ints\n",
        "example_tokenised = vectorize_layer(example_data)\n",
        "print(example_tokenised.numpy())"
      ],
      "metadata": {
        "colab": {
          "base_uri": "https://localhost:8080/"
        },
        "id": "FIA31pU43Fmn",
        "outputId": "1f7edbf0-5ec6-4f74-c89d-617591b0707d"
      },
      "execution_count": 15,
      "outputs": [
        {
          "output_type": "stream",
          "name": "stdout",
          "text": [
            "[   5    8    2   16    2   25    2   39   58    2   50    3  237 4112\n",
            "  448  626   22    7  489  492  659   14   10  137 2201   39   21 2470\n",
            "   28    6  218 2192  942  587   14  983   12   71  230   60   77   92\n",
            "    3   69 2616   14  194   44    3  120   72    0    0    0    0    0\n",
            "    0    0    0    0    0    0    0    0    0    0    0    0    0    0\n",
            "    0    0    0    0    0    0    0    0    0    0    0]\n"
          ]
        }
      ]
    },
    {
      "cell_type": "markdown",
      "source": [
        "# 4.  Create the Training Set"
      ],
      "metadata": {
        "id": "CYjvzNaF3bCR"
      }
    },
    {
      "cell_type": "code",
      "source": [
        "# Create the training set of recipes and the same text shifted by one word\n",
        "def prepare_inputs(text):\n",
        "    text = tf.expand_dims(text, -1)\n",
        "    tokenized_sentences = vectorize_layer(text)\n",
        "    x = tokenized_sentences[:, :-1]\n",
        "    y = tokenized_sentences[:, 1:]\n",
        "    return x, y\n",
        "\n",
        "\n",
        "train_ds = text_ds.map(prepare_inputs)\n"
      ],
      "metadata": {
        "id": "G-dnic_e3RJr"
      },
      "execution_count": 16,
      "outputs": []
    },
    {
      "cell_type": "code",
      "source": [
        "example_input_output = train_ds.take(1).get_single_element()"
      ],
      "metadata": {
        "id": "lliUiF6-2W2b"
      },
      "execution_count": 17,
      "outputs": []
    },
    {
      "cell_type": "code",
      "source": [
        "example_input_output"
      ],
      "metadata": {
        "colab": {
          "base_uri": "https://localhost:8080/"
        },
        "id": "Nof9CeDX4zrV",
        "outputId": "3ab45a57-9e55-4c2c-bc3f-325e50e1a237"
      },
      "execution_count": 18,
      "outputs": [
        {
          "output_type": "execute_result",
          "data": {
            "text/plain": [
              "(<tf.Tensor: shape=(32, 80), dtype=int64, numpy=\n",
              " array([[   5,    8,    2, ...,    0,    0,    0],\n",
              "        [   5,    8,    2, ...,  101, 1932,    3],\n",
              "        [   5,    8,    2, ...,    0,    0,    0],\n",
              "        ...,\n",
              "        [   5,    8,    2, ...,    0,    0,    0],\n",
              "        [   5,    8,    2, ...,    0,    0,    0],\n",
              "        [   5,    8,    2, ...,    0,    0,    0]])>,\n",
              " <tf.Tensor: shape=(32, 80), dtype=int64, numpy=\n",
              " array([[   8,    2,   16, ...,    0,    0,    0],\n",
              "        [   8,    2,   38, ..., 1932,    3, 3120],\n",
              "        [   8,    2,   36, ...,    0,    0,    0],\n",
              "        ...,\n",
              "        [   8,    2,  147, ...,    0,    0,    0],\n",
              "        [   8,    2,  147, ...,    0,    0,    0],\n",
              "        [   8,    2,   80, ...,    0,    0,    0]])>)"
            ]
          },
          "metadata": {},
          "execution_count": 18
        }
      ]
    },
    {
      "cell_type": "code",
      "source": [
        "# Example Input\n",
        "example_input_output[0][0]"
      ],
      "metadata": {
        "colab": {
          "base_uri": "https://localhost:8080/"
        },
        "id": "_bDN_y1W4zt2",
        "outputId": "71d92642-e794-4a49-cd39-1bfb5f955967"
      },
      "execution_count": 19,
      "outputs": [
        {
          "output_type": "execute_result",
          "data": {
            "text/plain": [
              "<tf.Tensor: shape=(80,), dtype=int64, numpy=\n",
              "array([   5,    8,    2,   16,    2,   25,    2,   41,   40,    2,  126,\n",
              "        502,   10,   11,    4,  241, 9301,  920,   41,   14,  113,    3,\n",
              "          6, 1125, 3357,  168,    4, 1378,   12,   78,   34,  344,   13,\n",
              "          7,   69,    3,   33,   32,  494,  327,  207,    3,  194,  704,\n",
              "        723,  138, 1809,  623,  183,   30,   31,   10, 1735,  168,    4,\n",
              "        385,  824,  113,    0,    0,    0,    0,    0,    0,    0,    0,\n",
              "          0,    0,    0,    0,    0,    0,    0,    0,    0,    0,    0,\n",
              "          0,    0,    0])>"
            ]
          },
          "metadata": {},
          "execution_count": 19
        }
      ]
    },
    {
      "cell_type": "code",
      "source": [
        "# Example Output (shifted by one token)\n",
        "example_input_output[1][0]"
      ],
      "metadata": {
        "colab": {
          "base_uri": "https://localhost:8080/"
        },
        "id": "WWeThc9R4zws",
        "outputId": "b250e67b-ae30-4535-97fa-e619312a2cef"
      },
      "execution_count": 20,
      "outputs": [
        {
          "output_type": "execute_result",
          "data": {
            "text/plain": [
              "<tf.Tensor: shape=(80,), dtype=int64, numpy=\n",
              "array([   8,    2,   16,    2,   25,    2,   41,   40,    2,  126,  502,\n",
              "         10,   11,    4,  241, 9301,  920,   41,   14,  113,    3,    6,\n",
              "       1125, 3357,  168,    4, 1378,   12,   78,   34,  344,   13,    7,\n",
              "         69,    3,   33,   32,  494,  327,  207,    3,  194,  704,  723,\n",
              "        138, 1809,  623,  183,   30,   31,   10, 1735,  168,    4,  385,\n",
              "        824,  113,    0,    0,    0,    0,    0,    0,    0,    0,    0,\n",
              "          0,    0,    0,    0,    0,    0,    0,    0,    0,    0,    0,\n",
              "          0,    0,    0])>"
            ]
          },
          "metadata": {},
          "execution_count": 20
        }
      ]
    },
    {
      "cell_type": "markdown",
      "source": [
        "# 5. Create the causal attention mask function"
      ],
      "metadata": {
        "id": "jTW88qr89DPr"
      }
    },
    {
      "cell_type": "code",
      "source": [
        "def causal_attention_mask(batch_size, n_dest, n_src, dtype):\n",
        "    i = tf.range(n_dest)[:, None]\n",
        "    j = tf.range(n_src)\n",
        "    m = i >= j - n_src + n_dest\n",
        "    mask = tf.cast(m, dtype)\n",
        "    mask = tf.reshape(mask, [1, n_dest, n_src])\n",
        "    mult = tf.concat(\n",
        "        [tf.expand_dims(batch_size, -1), tf.constant([1, 1], dtype=tf.int32)], 0\n",
        "    )\n",
        "    return tf.tile(mask, mult)\n",
        "\n",
        "\n",
        "np.transpose(causal_attention_mask(1, 10, 10, dtype=tf.int32)[0])"
      ],
      "metadata": {
        "colab": {
          "base_uri": "https://localhost:8080/"
        },
        "id": "nSUCQmq44zzj",
        "outputId": "4813ed44-0f8a-47c6-f83f-f512850e80c1"
      },
      "execution_count": 21,
      "outputs": [
        {
          "output_type": "execute_result",
          "data": {
            "text/plain": [
              "array([[1, 1, 1, 1, 1, 1, 1, 1, 1, 1],\n",
              "       [0, 1, 1, 1, 1, 1, 1, 1, 1, 1],\n",
              "       [0, 0, 1, 1, 1, 1, 1, 1, 1, 1],\n",
              "       [0, 0, 0, 1, 1, 1, 1, 1, 1, 1],\n",
              "       [0, 0, 0, 0, 1, 1, 1, 1, 1, 1],\n",
              "       [0, 0, 0, 0, 0, 1, 1, 1, 1, 1],\n",
              "       [0, 0, 0, 0, 0, 0, 1, 1, 1, 1],\n",
              "       [0, 0, 0, 0, 0, 0, 0, 1, 1, 1],\n",
              "       [0, 0, 0, 0, 0, 0, 0, 0, 1, 1],\n",
              "       [0, 0, 0, 0, 0, 0, 0, 0, 0, 1]], dtype=int32)"
            ]
          },
          "metadata": {},
          "execution_count": 21
        }
      ]
    },
    {
      "cell_type": "markdown",
      "source": [
        "# 6. Create a Transformer Block layer"
      ],
      "metadata": {
        "id": "VpNDvhn59yZL"
      }
    },
    {
      "cell_type": "code",
      "source": [
        "class TransformerBlock(layers.Layer):\n",
        "    def __init__(self, num_heads, key_dim, embed_dim, ff_dim, dropout_rate=0.1):\n",
        "        super(TransformerBlock, self).__init__()\n",
        "        self.num_heads = num_heads\n",
        "        self.key_dim = key_dim\n",
        "        self.embed_dim = embed_dim\n",
        "        self.ff_dim = ff_dim\n",
        "        self.dropout_rate = dropout_rate\n",
        "        self.attn = layers.MultiHeadAttention(\n",
        "            num_heads, key_dim, output_shape=embed_dim\n",
        "        )\n",
        "        self.dropout_1 = layers.Dropout(self.dropout_rate)\n",
        "        self.ln_1 = layers.LayerNormalization(epsilon=1e-6)\n",
        "        self.ffn_1 = layers.Dense(self.ff_dim, activation=\"relu\")\n",
        "        self.ffn_2 = layers.Dense(self.embed_dim)\n",
        "        self.dropout_2 = layers.Dropout(self.dropout_rate)\n",
        "        self.ln_2 = layers.LayerNormalization(epsilon=1e-6)\n",
        "\n",
        "    def call(self, inputs):\n",
        "        input_shape = tf.shape(inputs)\n",
        "        batch_size = input_shape[0]\n",
        "        seq_len = input_shape[1]\n",
        "        causal_mask = causal_attention_mask(\n",
        "            batch_size, seq_len, seq_len, tf.bool\n",
        "        )\n",
        "        attention_output, attention_scores = self.attn(\n",
        "            inputs,\n",
        "            inputs,\n",
        "            attention_mask=causal_mask,\n",
        "            return_attention_scores=True,\n",
        "        )\n",
        "        attention_output = self.dropout_1(attention_output)\n",
        "        out1 = self.ln_1(inputs + attention_output)\n",
        "        ffn_1 = self.ffn_1(out1)\n",
        "        ffn_2 = self.ffn_2(ffn_1)\n",
        "        ffn_output = self.dropout_2(ffn_2)\n",
        "        return (self.ln_2(out1 + ffn_output), attention_scores)\n",
        "\n",
        "    def get_config(self):\n",
        "        config = super().get_config()\n",
        "        config.update(\n",
        "            {\n",
        "                \"key_dim\": self.key_dim,\n",
        "                \"embed_dim\": self.embed_dim,\n",
        "                \"num_heads\": self.num_heads,\n",
        "                \"ff_dim\": self.ff_dim,\n",
        "                \"dropout_rate\": self.dropout_rate,\n",
        "            }\n",
        "        )\n",
        "        return config"
      ],
      "metadata": {
        "id": "NOMkAvXA4z3P"
      },
      "execution_count": 22,
      "outputs": []
    },
    {
      "cell_type": "markdown",
      "source": [
        "# 7. Create the Token and Position Embedding"
      ],
      "metadata": {
        "id": "n5jEOtfPTxc7"
      }
    },
    {
      "cell_type": "code",
      "source": [
        "class TokenAndPositionEmbedding(layers.Layer):\n",
        "    def __init__(self, max_len, vocab_size, embed_dim):\n",
        "        super(TokenAndPositionEmbedding, self).__init__()\n",
        "        self.max_len = max_len\n",
        "        self.vocab_size = vocab_size\n",
        "        self.embed_dim = embed_dim\n",
        "        self.token_emb = layers.Embedding(\n",
        "            input_dim=vocab_size, output_dim=embed_dim\n",
        "        )\n",
        "        self.pos_emb = layers.Embedding(input_dim=max_len, output_dim=embed_dim)\n",
        "\n",
        "    def call(self, x):\n",
        "        maxlen = tf.shape(x)[-1]\n",
        "        positions = tf.range(start=0, limit=maxlen, delta=1)\n",
        "        positions = self.pos_emb(positions)\n",
        "        x = self.token_emb(x)\n",
        "        return x + positions\n",
        "\n",
        "    def get_config(self):\n",
        "        config = super().get_config()\n",
        "        config.update(\n",
        "            {\n",
        "                \"max_len\": self.max_len,\n",
        "                \"vocab_size\": self.vocab_size,\n",
        "                \"embed_dim\": self.embed_dim,\n",
        "            }\n",
        "        )\n",
        "        return config"
      ],
      "metadata": {
        "id": "vefzXavo2XKZ"
      },
      "execution_count": 23,
      "outputs": []
    },
    {
      "cell_type": "markdown",
      "source": [
        "# 8. Build the Transformer model"
      ],
      "metadata": {
        "id": "R2p0RpX5T7Yu"
      }
    },
    {
      "cell_type": "code",
      "source": [
        "inputs = layers.Input(shape=(None,), dtype=tf.int32)\n",
        "x = TokenAndPositionEmbedding(MAX_LEN, VOCAB_SIZE, EMBEDDING_DIM)(inputs)\n",
        "x, attention_scores = TransformerBlock(\n",
        "    N_HEADS, KEY_DIM, EMBEDDING_DIM, FEED_FORWARD_DIM\n",
        ")(x)\n",
        "outputs = layers.Dense(VOCAB_SIZE, activation=\"softmax\")(x)\n",
        "gpt = models.Model(inputs=inputs, outputs=[outputs, attention_scores])\n",
        "gpt.compile(\"adam\", loss=[losses.SparseCategoricalCrossentropy(), None])"
      ],
      "metadata": {
        "id": "eePhxp2mT3Hr"
      },
      "execution_count": 24,
      "outputs": []
    },
    {
      "cell_type": "code",
      "source": [
        "gpt.summary()"
      ],
      "metadata": {
        "colab": {
          "base_uri": "https://localhost:8080/",
          "height": 289
        },
        "id": "jt29p8cyT3Kt",
        "outputId": "ea798a3b-5ad5-4989-8747-37569567a75e"
      },
      "execution_count": 25,
      "outputs": [
        {
          "output_type": "display_data",
          "data": {
            "text/plain": [
              "\u001b[1mModel: \"functional\"\u001b[0m\n"
            ],
            "text/html": [
              "<pre style=\"white-space:pre;overflow-x:auto;line-height:normal;font-family:Menlo,'DejaVu Sans Mono',consolas,'Courier New',monospace\"><span style=\"font-weight: bold\">Model: \"functional\"</span>\n",
              "</pre>\n"
            ]
          },
          "metadata": {}
        },
        {
          "output_type": "display_data",
          "data": {
            "text/plain": [
              "┏━━━━━━━━━━━━━━━━━━━━━━━━━━━━━━━━━┳━━━━━━━━━━━━━━━━━━━━━━━━┳━━━━━━━━━━━━━━━┓\n",
              "┃\u001b[1m \u001b[0m\u001b[1mLayer (type)                   \u001b[0m\u001b[1m \u001b[0m┃\u001b[1m \u001b[0m\u001b[1mOutput Shape          \u001b[0m\u001b[1m \u001b[0m┃\u001b[1m \u001b[0m\u001b[1m      Param #\u001b[0m\u001b[1m \u001b[0m┃\n",
              "┡━━━━━━━━━━━━━━━━━━━━━━━━━━━━━━━━━╇━━━━━━━━━━━━━━━━━━━━━━━━╇━━━━━━━━━━━━━━━┩\n",
              "│ input_layer (\u001b[38;5;33mInputLayer\u001b[0m)        │ (\u001b[38;5;45mNone\u001b[0m, \u001b[38;5;45mNone\u001b[0m)           │             \u001b[38;5;34m0\u001b[0m │\n",
              "├─────────────────────────────────┼────────────────────────┼───────────────┤\n",
              "│ token_and_position_embedding    │ (\u001b[38;5;45mNone\u001b[0m, \u001b[38;5;45mNone\u001b[0m, \u001b[38;5;34m256\u001b[0m)      │     \u001b[38;5;34m2,580,480\u001b[0m │\n",
              "│ (\u001b[38;5;33mTokenAndPositionEmbedding\u001b[0m)     │                        │               │\n",
              "├─────────────────────────────────┼────────────────────────┼───────────────┤\n",
              "│ transformer_block               │ [(\u001b[38;5;45mNone\u001b[0m, \u001b[38;5;45mNone\u001b[0m, \u001b[38;5;34m256\u001b[0m),    │       \u001b[38;5;34m658,688\u001b[0m │\n",
              "│ (\u001b[38;5;33mTransformerBlock\u001b[0m)              │ (\u001b[38;5;45mNone\u001b[0m, \u001b[38;5;34m2\u001b[0m, \u001b[38;5;45mNone\u001b[0m, \u001b[38;5;45mNone\u001b[0m)] │               │\n",
              "├─────────────────────────────────┼────────────────────────┼───────────────┤\n",
              "│ dense_2 (\u001b[38;5;33mDense\u001b[0m)                 │ (\u001b[38;5;45mNone\u001b[0m, \u001b[38;5;45mNone\u001b[0m, \u001b[38;5;34m10000\u001b[0m)    │     \u001b[38;5;34m2,570,000\u001b[0m │\n",
              "└─────────────────────────────────┴────────────────────────┴───────────────┘\n"
            ],
            "text/html": [
              "<pre style=\"white-space:pre;overflow-x:auto;line-height:normal;font-family:Menlo,'DejaVu Sans Mono',consolas,'Courier New',monospace\">┏━━━━━━━━━━━━━━━━━━━━━━━━━━━━━━━━━┳━━━━━━━━━━━━━━━━━━━━━━━━┳━━━━━━━━━━━━━━━┓\n",
              "┃<span style=\"font-weight: bold\"> Layer (type)                    </span>┃<span style=\"font-weight: bold\"> Output Shape           </span>┃<span style=\"font-weight: bold\">       Param # </span>┃\n",
              "┡━━━━━━━━━━━━━━━━━━━━━━━━━━━━━━━━━╇━━━━━━━━━━━━━━━━━━━━━━━━╇━━━━━━━━━━━━━━━┩\n",
              "│ input_layer (<span style=\"color: #0087ff; text-decoration-color: #0087ff\">InputLayer</span>)        │ (<span style=\"color: #00d7ff; text-decoration-color: #00d7ff\">None</span>, <span style=\"color: #00d7ff; text-decoration-color: #00d7ff\">None</span>)           │             <span style=\"color: #00af00; text-decoration-color: #00af00\">0</span> │\n",
              "├─────────────────────────────────┼────────────────────────┼───────────────┤\n",
              "│ token_and_position_embedding    │ (<span style=\"color: #00d7ff; text-decoration-color: #00d7ff\">None</span>, <span style=\"color: #00d7ff; text-decoration-color: #00d7ff\">None</span>, <span style=\"color: #00af00; text-decoration-color: #00af00\">256</span>)      │     <span style=\"color: #00af00; text-decoration-color: #00af00\">2,580,480</span> │\n",
              "│ (<span style=\"color: #0087ff; text-decoration-color: #0087ff\">TokenAndPositionEmbedding</span>)     │                        │               │\n",
              "├─────────────────────────────────┼────────────────────────┼───────────────┤\n",
              "│ transformer_block               │ [(<span style=\"color: #00d7ff; text-decoration-color: #00d7ff\">None</span>, <span style=\"color: #00d7ff; text-decoration-color: #00d7ff\">None</span>, <span style=\"color: #00af00; text-decoration-color: #00af00\">256</span>),    │       <span style=\"color: #00af00; text-decoration-color: #00af00\">658,688</span> │\n",
              "│ (<span style=\"color: #0087ff; text-decoration-color: #0087ff\">TransformerBlock</span>)              │ (<span style=\"color: #00d7ff; text-decoration-color: #00d7ff\">None</span>, <span style=\"color: #00af00; text-decoration-color: #00af00\">2</span>, <span style=\"color: #00d7ff; text-decoration-color: #00d7ff\">None</span>, <span style=\"color: #00d7ff; text-decoration-color: #00d7ff\">None</span>)] │               │\n",
              "├─────────────────────────────────┼────────────────────────┼───────────────┤\n",
              "│ dense_2 (<span style=\"color: #0087ff; text-decoration-color: #0087ff\">Dense</span>)                 │ (<span style=\"color: #00d7ff; text-decoration-color: #00d7ff\">None</span>, <span style=\"color: #00d7ff; text-decoration-color: #00d7ff\">None</span>, <span style=\"color: #00af00; text-decoration-color: #00af00\">10000</span>)    │     <span style=\"color: #00af00; text-decoration-color: #00af00\">2,570,000</span> │\n",
              "└─────────────────────────────────┴────────────────────────┴───────────────┘\n",
              "</pre>\n"
            ]
          },
          "metadata": {}
        },
        {
          "output_type": "display_data",
          "data": {
            "text/plain": [
              "\u001b[1m Total params: \u001b[0m\u001b[38;5;34m5,809,168\u001b[0m (22.16 MB)\n"
            ],
            "text/html": [
              "<pre style=\"white-space:pre;overflow-x:auto;line-height:normal;font-family:Menlo,'DejaVu Sans Mono',consolas,'Courier New',monospace\"><span style=\"font-weight: bold\"> Total params: </span><span style=\"color: #00af00; text-decoration-color: #00af00\">5,809,168</span> (22.16 MB)\n",
              "</pre>\n"
            ]
          },
          "metadata": {}
        },
        {
          "output_type": "display_data",
          "data": {
            "text/plain": [
              "\u001b[1m Trainable params: \u001b[0m\u001b[38;5;34m5,809,168\u001b[0m (22.16 MB)\n"
            ],
            "text/html": [
              "<pre style=\"white-space:pre;overflow-x:auto;line-height:normal;font-family:Menlo,'DejaVu Sans Mono',consolas,'Courier New',monospace\"><span style=\"font-weight: bold\"> Trainable params: </span><span style=\"color: #00af00; text-decoration-color: #00af00\">5,809,168</span> (22.16 MB)\n",
              "</pre>\n"
            ]
          },
          "metadata": {}
        },
        {
          "output_type": "display_data",
          "data": {
            "text/plain": [
              "\u001b[1m Non-trainable params: \u001b[0m\u001b[38;5;34m0\u001b[0m (0.00 B)\n"
            ],
            "text/html": [
              "<pre style=\"white-space:pre;overflow-x:auto;line-height:normal;font-family:Menlo,'DejaVu Sans Mono',consolas,'Courier New',monospace\"><span style=\"font-weight: bold\"> Non-trainable params: </span><span style=\"color: #00af00; text-decoration-color: #00af00\">0</span> (0.00 B)\n",
              "</pre>\n"
            ]
          },
          "metadata": {}
        }
      ]
    },
    {
      "cell_type": "code",
      "source": [
        "if LOAD_MODEL:\n",
        "    # model.load_weights('./models/model')\n",
        "    gpt = models.load_model(\"./models/gpt\", compile=True)"
      ],
      "metadata": {
        "id": "rW0gfpo0T3Oc"
      },
      "execution_count": 26,
      "outputs": []
    },
    {
      "cell_type": "markdown",
      "source": [
        "# 9. Train the Transformer"
      ],
      "metadata": {
        "id": "0i2zunG3UNjb"
      }
    },
    {
      "cell_type": "code",
      "source": [
        "# Create a TextGenerator checkpoint\n",
        "class TextGenerator(callbacks.Callback):\n",
        "    def __init__(self, index_to_word, top_k=10):\n",
        "        self.index_to_word = index_to_word\n",
        "        self.word_to_index = {\n",
        "            word: index for index, word in enumerate(index_to_word)\n",
        "        }\n",
        "\n",
        "    def sample_from(self, probs, temperature):\n",
        "        probs = probs ** (1 / temperature)\n",
        "        probs = probs / np.sum(probs)\n",
        "        return np.random.choice(len(probs), p=probs), probs\n",
        "\n",
        "    def generate(self, start_prompt, max_tokens, temperature):\n",
        "        start_tokens = [\n",
        "            self.word_to_index.get(x, 1) for x in start_prompt.split()\n",
        "        ]\n",
        "        sample_token = None\n",
        "        info = []\n",
        "        while len(start_tokens) < max_tokens and sample_token != 0:\n",
        "            x = np.array([start_tokens])\n",
        "            y, att = self.model.predict(x, verbose=0)\n",
        "            sample_token, probs = self.sample_from(y[0][-1], temperature)\n",
        "            info.append(\n",
        "                {\n",
        "                    \"prompt\": start_prompt,\n",
        "                    \"word_probs\": probs,\n",
        "                    \"atts\": att[0, :, -1, :],\n",
        "                }\n",
        "            )\n",
        "            start_tokens.append(sample_token)\n",
        "            start_prompt = start_prompt + \" \" + self.index_to_word[sample_token]\n",
        "        print(f\"\\ngenerated text:\\n{start_prompt}\\n\")\n",
        "        return info\n",
        "\n",
        "    def on_epoch_end(self, epoch, logs=None):\n",
        "        self.generate(\"wine review\", max_tokens=80, temperature=1.0)"
      ],
      "metadata": {
        "id": "YCuBrJdK2QVC"
      },
      "execution_count": 27,
      "outputs": []
    },
    {
      "cell_type": "code",
      "source": [
        "# Create a model save checkpoint\n",
        "model_checkpoint_callback = callbacks.ModelCheckpoint(\n",
        "    filepath=\"./checkpoint/checkpoint.weights.h5\",\n",
        "    save_weights_only=True,\n",
        "    save_freq=\"epoch\",\n",
        "    verbose=0,\n",
        ")\n",
        "\n",
        "tensorboard_callback = callbacks.TensorBoard(log_dir=\"./logs\")\n",
        "\n",
        "# Tokenize starting prompt\n",
        "text_generator = TextGenerator(vocab)"
      ],
      "metadata": {
        "id": "MFuISMnn2QZl"
      },
      "execution_count": 28,
      "outputs": []
    },
    {
      "cell_type": "markdown",
      "source": [
        "# Compile and Train\n",
        "\n"
      ],
      "metadata": {
        "id": "F0A8AVUOfFE5"
      }
    },
    {
      "cell_type": "code",
      "source": [
        "gpt.fit(\n",
        "    train_ds,\n",
        "    epochs=EPOCHS,\n",
        "    callbacks=[model_checkpoint_callback, tensorboard_callback, text_generator],\n",
        ")"
      ],
      "metadata": {
        "id": "Pm0R4CznxNHo",
        "colab": {
          "base_uri": "https://localhost:8080/"
        },
        "outputId": "2d2efa3b-b151-4e22-98e0-afd633883918"
      },
      "execution_count": 29,
      "outputs": [
        {
          "output_type": "stream",
          "name": "stdout",
          "text": [
            "Epoch 1/5\n",
            "\u001b[1m4059/4060\u001b[0m \u001b[32m━━━━━━━━━━━━━━━━━━━\u001b[0m\u001b[37m━\u001b[0m \u001b[1m0s\u001b[0m 22ms/step - loss: 2.5153\n",
            "generated text:\n",
            "wine review : italy : tuscany : red blend : made without the merlot merlot colorino and 40 nero this opens with notes of ripe black skinned fruit and a balsamic note the dense palate offers strawberry extract and mature black pepper chewy tannins \n",
            "\n",
            "\u001b[1m4060/4060\u001b[0m \u001b[32m━━━━━━━━━━━━━━━━━━━━\u001b[0m\u001b[37m\u001b[0m \u001b[1m154s\u001b[0m 36ms/step - loss: 2.5151\n",
            "Epoch 2/5\n",
            "\u001b[1m4060/4060\u001b[0m \u001b[32m━━━━━━━━━━━━━━━━━━━━\u001b[0m\u001b[37m\u001b[0m \u001b[1m0s\u001b[0m 21ms/step - loss: 1.9440\n",
            "generated text:\n",
            "wine review : us : california : seyval blanc : this wine is dry and vibrant in acidity as well as ripe apple mocha and white peach flavors it s a bit sweet but relatively light in body a wine that finishes slightly sweet with good acidity \n",
            "\n",
            "\u001b[1m4060/4060\u001b[0m \u001b[32m━━━━━━━━━━━━━━━━━━━━\u001b[0m\u001b[37m\u001b[0m \u001b[1m93s\u001b[0m 23ms/step - loss: 1.9439\n",
            "Epoch 3/5\n",
            "\u001b[1m4058/4060\u001b[0m \u001b[32m━━━━━━━━━━━━━━━━━━━\u001b[0m\u001b[37m━\u001b[0m \u001b[1m0s\u001b[0m 22ms/step - loss: 1.8665\n",
            "generated text:\n",
            "wine review : australia : south australia : chardonnay : sweet scents of vanilla and popcorn lead to a medium bodied chardonnay with spice like pineapple custard toasty nutmeg and vanilla cereal notes on the finish drink now 2016 \n",
            "\n",
            "\u001b[1m4060/4060\u001b[0m \u001b[32m━━━━━━━━━━━━━━━━━━━━\u001b[0m\u001b[37m\u001b[0m \u001b[1m93s\u001b[0m 23ms/step - loss: 1.8665\n",
            "Epoch 4/5\n",
            "\u001b[1m4058/4060\u001b[0m \u001b[32m━━━━━━━━━━━━━━━━━━━\u001b[0m\u001b[37m━\u001b[0m \u001b[1m0s\u001b[0m 22ms/step - loss: 1.8305\n",
            "generated text:\n",
            "wine review : us : california : cabernet sauvignon : with merlot and petit verdot this 100 cabernet which is nicely formed from coombsville it has a soft texture and a nice silky mouth look for that has soft flavors with cherry red currant cola and licorice that are mainly with 13 merlot and cabernet franc \n",
            "\n",
            "\u001b[1m4060/4060\u001b[0m \u001b[32m━━━━━━━━━━━━━━━━━━━━\u001b[0m\u001b[37m\u001b[0m \u001b[1m104s\u001b[0m 26ms/step - loss: 1.8305\n",
            "Epoch 5/5\n",
            "\u001b[1m4059/4060\u001b[0m \u001b[32m━━━━━━━━━━━━━━━━━━━\u001b[0m\u001b[37m━\u001b[0m \u001b[1m0s\u001b[0m 22ms/step - loss: 1.7906\n",
            "generated text:\n",
            "wine review : australia : [UNK] : pinot noir : a debut the nose of 2016 from this producer s estate vineyards is unusual to suggest [UNK] rosé ice and was left until the second vintage from the [UNK] the cabernet sometimes seemed bright making things to return to simplicity to the palate ease and brings in liveliness to the floral and floral wines are polished and hint at a fine stage \n",
            "\n",
            "\u001b[1m4060/4060\u001b[0m \u001b[32m━━━━━━━━━━━━━━━━━━━━\u001b[0m\u001b[37m\u001b[0m \u001b[1m113s\u001b[0m 28ms/step - loss: 1.7906\n"
          ]
        },
        {
          "output_type": "execute_result",
          "data": {
            "text/plain": [
              "<keras.src.callbacks.history.History at 0x7a8f032a9d50>"
            ]
          },
          "metadata": {},
          "execution_count": 29
        }
      ]
    },
    {
      "cell_type": "code",
      "source": [
        "# Save the final model\n",
        "gpt.save(\"/content/sample_data/gpt.keras\")"
      ],
      "metadata": {
        "id": "AD9BfQzuWXl9"
      },
      "execution_count": 32,
      "outputs": []
    },
    {
      "cell_type": "markdown",
      "source": [
        "# Text Generation with Different Temperatures"
      ],
      "metadata": {
        "id": "C84daFkvith2"
      }
    },
    {
      "cell_type": "code",
      "source": [
        "def print_probs(info, vocab, top_k=5):\n",
        "    for i in info:\n",
        "        highlighted_text = []\n",
        "        for word, att_score in zip(\n",
        "            i[\"prompt\"].split(), np.mean(i[\"atts\"], axis=0)\n",
        "        ):\n",
        "            highlighted_text.append(\n",
        "                '<span style=\"background-color:rgba(135,206,250,'\n",
        "                + str(att_score / max(np.mean(i[\"atts\"], axis=0)))\n",
        "                + ');\">'\n",
        "                + word\n",
        "                + \"</span>\"\n",
        "            )\n",
        "        highlighted_text = \" \".join(highlighted_text)\n",
        "        display(HTML(highlighted_text))\n",
        "\n",
        "        word_probs = i[\"word_probs\"]\n",
        "        p_sorted = np.sort(word_probs)[::-1][:top_k]\n",
        "        i_sorted = np.argsort(word_probs)[::-1][:top_k]\n",
        "        for p, i in zip(p_sorted, i_sorted):\n",
        "            print(f\"{vocab[i]}:   \\t{np.round(100*p,2)}%\")\n",
        "        print(\"--------\\n\")"
      ],
      "metadata": {
        "id": "lfCHm8h1mPWa"
      },
      "execution_count": 35,
      "outputs": []
    },
    {
      "cell_type": "code",
      "source": [
        "info = text_generator.generate(\n",
        "    \"wine review : us\", max_tokens=80, temperature=1.0\n",
        ")"
      ],
      "metadata": {
        "colab": {
          "base_uri": "https://localhost:8080/"
        },
        "id": "dNRtwe25mPZ5",
        "outputId": "f3ab69d4-66f5-4b6b-a8f7-c15391154b70"
      },
      "execution_count": 36,
      "outputs": [
        {
          "output_type": "stream",
          "name": "stdout",
          "text": [
            "\n",
            "generated text:\n",
            "wine review : us : california : zinfandel : full bodied and lushly textured this wine has briary black pepper and black berry flavors with smoky wood [UNK] fully generous texture it has a deep inky dark color it is full and a subtle tannic full bodied wine \n",
            "\n"
          ]
        }
      ]
    },
    {
      "cell_type": "code",
      "source": [
        "info = text_generator.generate(\n",
        "    \"wine review : italy\", max_tokens=80, temperature=0.5\n",
        ")"
      ],
      "metadata": {
        "colab": {
          "base_uri": "https://localhost:8080/"
        },
        "id": "OaAGgQ5BmWdC",
        "outputId": "46a20a89-6101-4b0f-cc72-e41d5a128088"
      },
      "execution_count": 38,
      "outputs": [
        {
          "output_type": "stream",
          "name": "stdout",
          "text": [
            "\n",
            "generated text:\n",
            "wine review : italy : tuscany : sangiovese : this riserva has a clean and correct nose with bright berry aromas followed by black cherry leather and tobacco flavors it s a very nice wine to pair with pasta or meat \n",
            "\n"
          ]
        }
      ]
    },
    {
      "cell_type": "code",
      "source": [
        "info = text_generator.generate(\n",
        "    \"wine review : germany\", max_tokens=80, temperature=0.5\n",
        ")\n",
        "print_probs(info, vocab)"
      ],
      "metadata": {
        "colab": {
          "base_uri": "https://localhost:8080/",
          "height": 1000
        },
        "id": "UbnaiglFmWg3",
        "outputId": "dcd38c94-906a-425e-e8a9-636d39055d12"
      },
      "execution_count": 39,
      "outputs": [
        {
          "output_type": "stream",
          "name": "stdout",
          "text": [
            "\n",
            "generated text:\n",
            "wine review : germany : mosel : riesling : fresh lime and lemon flavors are accented by a touch of saffron in this off dry riesling it s slightly austere and light in style yet fresh with a clean refreshing finish \n",
            "\n"
          ]
        },
        {
          "output_type": "display_data",
          "data": {
            "text/plain": [
              "<IPython.core.display.HTML object>"
            ],
            "text/html": [
              "<span style=\"background-color:rgba(135,206,250,0.87761533);\">wine</span> <span style=\"background-color:rgba(135,206,250,1.0);\">review</span> <span style=\"background-color:rgba(135,206,250,0.45748293);\">:</span> <span style=\"background-color:rgba(135,206,250,0.28339598);\">germany</span>"
            ]
          },
          "metadata": {}
        },
        {
          "output_type": "stream",
          "name": "stdout",
          "text": [
            "::   \t100.0%\n",
            "saar:   \t0.0%\n",
            "cabernet:   \t0.0%\n",
            "grosso:   \t0.0%\n",
            "merlot:   \t0.0%\n",
            "--------\n",
            "\n"
          ]
        },
        {
          "output_type": "display_data",
          "data": {
            "text/plain": [
              "<IPython.core.display.HTML object>"
            ],
            "text/html": [
              "<span style=\"background-color:rgba(135,206,250,0.44099516);\">wine</span> <span style=\"background-color:rgba(135,206,250,0.5940861);\">review</span> <span style=\"background-color:rgba(135,206,250,0.3011679);\">:</span> <span style=\"background-color:rgba(135,206,250,1.0);\">germany</span> <span style=\"background-color:rgba(135,206,250,0.252297);\">:</span>"
            ]
          },
          "metadata": {}
        },
        {
          "output_type": "stream",
          "name": "stdout",
          "text": [
            "mosel:   \t60.59000015258789%\n",
            "rheingau:   \t25.0%\n",
            "rheinhessen:   \t7.909999847412109%\n",
            "pfalz:   \t3.700000047683716%\n",
            "nahe:   \t1.4299999475479126%\n",
            "--------\n",
            "\n"
          ]
        },
        {
          "output_type": "display_data",
          "data": {
            "text/plain": [
              "<IPython.core.display.HTML object>"
            ],
            "text/html": [
              "<span style=\"background-color:rgba(135,206,250,0.86006224);\">wine</span> <span style=\"background-color:rgba(135,206,250,1.0);\">review</span> <span style=\"background-color:rgba(135,206,250,0.35117725);\">:</span> <span style=\"background-color:rgba(135,206,250,0.33215153);\">germany</span> <span style=\"background-color:rgba(135,206,250,0.40396696);\">:</span> <span style=\"background-color:rgba(135,206,250,0.13874018);\">mosel</span>"
            ]
          },
          "metadata": {}
        },
        {
          "output_type": "stream",
          "name": "stdout",
          "text": [
            "::   \t99.27999877929688%\n",
            "saar:   \t0.7200000286102295%\n",
            "donauland:   \t0.0%\n",
            "central:   \t0.0%\n",
            "spain:   \t0.0%\n",
            "--------\n",
            "\n"
          ]
        },
        {
          "output_type": "display_data",
          "data": {
            "text/plain": [
              "<IPython.core.display.HTML object>"
            ],
            "text/html": [
              "<span style=\"background-color:rgba(135,206,250,0.56369376);\">wine</span> <span style=\"background-color:rgba(135,206,250,0.539832);\">review</span> <span style=\"background-color:rgba(135,206,250,0.2077215);\">:</span> <span style=\"background-color:rgba(135,206,250,0.57629937);\">germany</span> <span style=\"background-color:rgba(135,206,250,0.18903248);\">:</span> <span style=\"background-color:rgba(135,206,250,1.0);\">mosel</span> <span style=\"background-color:rgba(135,206,250,0.244136);\">:</span>"
            ]
          },
          "metadata": {}
        },
        {
          "output_type": "stream",
          "name": "stdout",
          "text": [
            "riesling:   \t99.9800033569336%\n",
            "white:   \t0.009999999776482582%\n",
            "pinot:   \t0.009999999776482582%\n",
            "rosé:   \t0.0%\n",
            "gewürztraminer:   \t0.0%\n",
            "--------\n",
            "\n"
          ]
        },
        {
          "output_type": "display_data",
          "data": {
            "text/plain": [
              "<IPython.core.display.HTML object>"
            ],
            "text/html": [
              "<span style=\"background-color:rgba(135,206,250,0.7844715);\">wine</span> <span style=\"background-color:rgba(135,206,250,1.0);\">review</span> <span style=\"background-color:rgba(135,206,250,0.38866055);\">:</span> <span style=\"background-color:rgba(135,206,250,0.24224424);\">germany</span> <span style=\"background-color:rgba(135,206,250,0.30943078);\">:</span> <span style=\"background-color:rgba(135,206,250,0.28988683);\">mosel</span> <span style=\"background-color:rgba(135,206,250,0.2657525);\">:</span> <span style=\"background-color:rgba(135,206,250,0.12969439);\">riesling</span>"
            ]
          },
          "metadata": {}
        },
        {
          "output_type": "stream",
          "name": "stdout",
          "text": [
            "::   \t100.0%\n",
            "riesling:   \t0.0%\n",
            "sekt:   \t0.0%\n",
            "blanc:   \t0.0%\n",
            "rosé:   \t0.0%\n",
            "--------\n",
            "\n"
          ]
        },
        {
          "output_type": "display_data",
          "data": {
            "text/plain": [
              "<IPython.core.display.HTML object>"
            ],
            "text/html": [
              "<span style=\"background-color:rgba(135,206,250,1.0);\">wine</span> <span style=\"background-color:rgba(135,206,250,0.97485065);\">review</span> <span style=\"background-color:rgba(135,206,250,0.3585478);\">:</span> <span style=\"background-color:rgba(135,206,250,0.9594365);\">germany</span> <span style=\"background-color:rgba(135,206,250,0.32257262);\">:</span> <span style=\"background-color:rgba(135,206,250,0.8253093);\">mosel</span> <span style=\"background-color:rgba(135,206,250,0.39342973);\">:</span> <span style=\"background-color:rgba(135,206,250,0.64556277);\">riesling</span> <span style=\"background-color:rgba(135,206,250,0.50254375);\">:</span>"
            ]
          },
          "metadata": {}
        },
        {
          "output_type": "stream",
          "name": "stdout",
          "text": [
            "a:   \t36.849998474121094%\n",
            "this:   \t19.760000228881836%\n",
            "while:   \t6.769999980926514%\n",
            "delicate:   \t4.949999809265137%\n",
            "the:   \t4.389999866485596%\n",
            "--------\n",
            "\n"
          ]
        },
        {
          "output_type": "display_data",
          "data": {
            "text/plain": [
              "<IPython.core.display.HTML object>"
            ],
            "text/html": [
              "<span style=\"background-color:rgba(135,206,250,1.0);\">wine</span> <span style=\"background-color:rgba(135,206,250,0.99865776);\">review</span> <span style=\"background-color:rgba(135,206,250,0.30824387);\">:</span> <span style=\"background-color:rgba(135,206,250,0.5954524);\">germany</span> <span style=\"background-color:rgba(135,206,250,0.25637627);\">:</span> <span style=\"background-color:rgba(135,206,250,0.29313242);\">mosel</span> <span style=\"background-color:rgba(135,206,250,0.28066584);\">:</span> <span style=\"background-color:rgba(135,206,250,0.5393163);\">riesling</span> <span style=\"background-color:rgba(135,206,250,0.35898742);\">:</span> <span style=\"background-color:rgba(135,206,250,0.58984214);\">fresh</span>"
            ]
          },
          "metadata": {}
        },
        {
          "output_type": "stream",
          "name": "stdout",
          "text": [
            "and:   \t61.2400016784668%\n",
            "apple:   \t18.31999969482422%\n",
            "lemon:   \t4.900000095367432%\n",
            "fruity:   \t2.930000066757202%\n",
            "tangerine:   \t2.3299999237060547%\n",
            "--------\n",
            "\n"
          ]
        },
        {
          "output_type": "display_data",
          "data": {
            "text/plain": [
              "<IPython.core.display.HTML object>"
            ],
            "text/html": [
              "<span style=\"background-color:rgba(135,206,250,1.0);\">wine</span> <span style=\"background-color:rgba(135,206,250,0.99887425);\">review</span> <span style=\"background-color:rgba(135,206,250,0.34760472);\">:</span> <span style=\"background-color:rgba(135,206,250,0.6696548);\">germany</span> <span style=\"background-color:rgba(135,206,250,0.3009505);\">:</span> <span style=\"background-color:rgba(135,206,250,0.23097304);\">mosel</span> <span style=\"background-color:rgba(135,206,250,0.34210905);\">:</span> <span style=\"background-color:rgba(135,206,250,0.28477672);\">riesling</span> <span style=\"background-color:rgba(135,206,250,0.43378034);\">:</span> <span style=\"background-color:rgba(135,206,250,0.540116);\">fresh</span> <span style=\"background-color:rgba(135,206,250,0.60334224);\">lime</span>"
            ]
          },
          "metadata": {}
        },
        {
          "output_type": "stream",
          "name": "stdout",
          "text": [
            "and:   \t98.4800033569336%\n",
            "zest:   \t0.6299999952316284%\n",
            "lemon:   \t0.30000001192092896%\n",
            "acidity:   \t0.25999999046325684%\n",
            "green:   \t0.05999999865889549%\n",
            "--------\n",
            "\n"
          ]
        },
        {
          "output_type": "display_data",
          "data": {
            "text/plain": [
              "<IPython.core.display.HTML object>"
            ],
            "text/html": [
              "<span style=\"background-color:rgba(135,206,250,0.50219655);\">wine</span> <span style=\"background-color:rgba(135,206,250,0.5264065);\">review</span> <span style=\"background-color:rgba(135,206,250,0.15195745);\">:</span> <span style=\"background-color:rgba(135,206,250,0.27191737);\">germany</span> <span style=\"background-color:rgba(135,206,250,0.11308479);\">:</span> <span style=\"background-color:rgba(135,206,250,0.26941755);\">mosel</span> <span style=\"background-color:rgba(135,206,250,0.11437838);\">:</span> <span style=\"background-color:rgba(135,206,250,0.22504607);\">riesling</span> <span style=\"background-color:rgba(135,206,250,0.15272847);\">:</span> <span style=\"background-color:rgba(135,206,250,0.5665779);\">fresh</span> <span style=\"background-color:rgba(135,206,250,1.0);\">lime</span> <span style=\"background-color:rgba(135,206,250,0.24377868);\">and</span>"
            ]
          },
          "metadata": {}
        },
        {
          "output_type": "stream",
          "name": "stdout",
          "text": [
            "lemon:   \t79.86000061035156%\n",
            "grapefruit:   \t5.940000057220459%\n",
            "apple:   \t4.809999942779541%\n",
            "green:   \t2.940000057220459%\n",
            "tangerine:   \t2.059999942779541%\n",
            "--------\n",
            "\n"
          ]
        },
        {
          "output_type": "display_data",
          "data": {
            "text/plain": [
              "<IPython.core.display.HTML object>"
            ],
            "text/html": [
              "<span style=\"background-color:rgba(135,206,250,1.0);\">wine</span> <span style=\"background-color:rgba(135,206,250,0.9524712);\">review</span> <span style=\"background-color:rgba(135,206,250,0.3184648);\">:</span> <span style=\"background-color:rgba(135,206,250,0.7341094);\">germany</span> <span style=\"background-color:rgba(135,206,250,0.29807892);\">:</span> <span style=\"background-color:rgba(135,206,250,0.24126126);\">mosel</span> <span style=\"background-color:rgba(135,206,250,0.32699585);\">:</span> <span style=\"background-color:rgba(135,206,250,0.31262577);\">riesling</span> <span style=\"background-color:rgba(135,206,250,0.41913804);\">:</span> <span style=\"background-color:rgba(135,206,250,0.5203438);\">fresh</span> <span style=\"background-color:rgba(135,206,250,0.49409106);\">lime</span> <span style=\"background-color:rgba(135,206,250,0.8423853);\">and</span> <span style=\"background-color:rgba(135,206,250,0.48508492);\">lemon</span>"
            ]
          },
          "metadata": {}
        },
        {
          "output_type": "stream",
          "name": "stdout",
          "text": [
            "flavors:   \t62.22999954223633%\n",
            "aromas:   \t16.959999084472656%\n",
            "notes:   \t13.609999656677246%\n",
            "lime:   \t2.7100000381469727%\n",
            "and:   \t2.2699999809265137%\n",
            "--------\n",
            "\n"
          ]
        },
        {
          "output_type": "display_data",
          "data": {
            "text/plain": [
              "<IPython.core.display.HTML object>"
            ],
            "text/html": [
              "<span style=\"background-color:rgba(135,206,250,0.7892409);\">wine</span> <span style=\"background-color:rgba(135,206,250,1.0);\">review</span> <span style=\"background-color:rgba(135,206,250,0.30552992);\">:</span> <span style=\"background-color:rgba(135,206,250,0.6552608);\">germany</span> <span style=\"background-color:rgba(135,206,250,0.3045601);\">:</span> <span style=\"background-color:rgba(135,206,250,0.3279519);\">mosel</span> <span style=\"background-color:rgba(135,206,250,0.23492876);\">:</span> <span style=\"background-color:rgba(135,206,250,0.27188566);\">riesling</span> <span style=\"background-color:rgba(135,206,250,0.24434823);\">:</span> <span style=\"background-color:rgba(135,206,250,0.21418066);\">fresh</span> <span style=\"background-color:rgba(135,206,250,0.445691);\">lime</span> <span style=\"background-color:rgba(135,206,250,0.5189683);\">and</span> <span style=\"background-color:rgba(135,206,250,0.94532746);\">lemon</span> <span style=\"background-color:rgba(135,206,250,0.3338362);\">flavors</span>"
            ]
          },
          "metadata": {}
        },
        {
          "output_type": "stream",
          "name": "stdout",
          "text": [
            "abound:   \t44.900001525878906%\n",
            "are:   \t43.5099983215332%\n",
            "lend:   \t1.7999999523162842%\n",
            "mark:   \t1.4900000095367432%\n",
            "reverberate:   \t1.409999966621399%\n",
            "--------\n",
            "\n"
          ]
        },
        {
          "output_type": "display_data",
          "data": {
            "text/plain": [
              "<IPython.core.display.HTML object>"
            ],
            "text/html": [
              "<span style=\"background-color:rgba(135,206,250,0.48046958);\">wine</span> <span style=\"background-color:rgba(135,206,250,0.5904107);\">review</span> <span style=\"background-color:rgba(135,206,250,0.15641768);\">:</span> <span style=\"background-color:rgba(135,206,250,0.4431012);\">germany</span> <span style=\"background-color:rgba(135,206,250,0.13262312);\">:</span> <span style=\"background-color:rgba(135,206,250,0.33781365);\">mosel</span> <span style=\"background-color:rgba(135,206,250,0.16016567);\">:</span> <span style=\"background-color:rgba(135,206,250,0.19201739);\">riesling</span> <span style=\"background-color:rgba(135,206,250,0.18273339);\">:</span> <span style=\"background-color:rgba(135,206,250,0.34729642);\">fresh</span> <span style=\"background-color:rgba(135,206,250,0.27688786);\">lime</span> <span style=\"background-color:rgba(135,206,250,0.29740936);\">and</span> <span style=\"background-color:rgba(135,206,250,0.49006206);\">lemon</span> <span style=\"background-color:rgba(135,206,250,1.0);\">flavors</span> <span style=\"background-color:rgba(135,206,250,0.18617049);\">are</span>"
            ]
          },
          "metadata": {}
        },
        {
          "output_type": "stream",
          "name": "stdout",
          "text": [
            "accented:   \t89.43000030517578%\n",
            "a:   \t1.840000033378601%\n",
            "offset:   \t1.559999942779541%\n",
            "delicately:   \t1.1699999570846558%\n",
            "pristine:   \t0.5099999904632568%\n",
            "--------\n",
            "\n"
          ]
        },
        {
          "output_type": "display_data",
          "data": {
            "text/plain": [
              "<IPython.core.display.HTML object>"
            ],
            "text/html": [
              "<span style=\"background-color:rgba(135,206,250,0.69357324);\">wine</span> <span style=\"background-color:rgba(135,206,250,1.0);\">review</span> <span style=\"background-color:rgba(135,206,250,0.18583573);\">:</span> <span style=\"background-color:rgba(135,206,250,0.2600306);\">germany</span> <span style=\"background-color:rgba(135,206,250,0.23207572);\">:</span> <span style=\"background-color:rgba(135,206,250,0.15250693);\">mosel</span> <span style=\"background-color:rgba(135,206,250,0.2427919);\">:</span> <span style=\"background-color:rgba(135,206,250,0.30748883);\">riesling</span> <span style=\"background-color:rgba(135,206,250,0.15789503);\">:</span> <span style=\"background-color:rgba(135,206,250,0.099232905);\">fresh</span> <span style=\"background-color:rgba(135,206,250,0.15908408);\">lime</span> <span style=\"background-color:rgba(135,206,250,0.20554778);\">and</span> <span style=\"background-color:rgba(135,206,250,0.1685943);\">lemon</span> <span style=\"background-color:rgba(135,206,250,0.51970166);\">flavors</span> <span style=\"background-color:rgba(135,206,250,0.3587248);\">are</span> <span style=\"background-color:rgba(135,206,250,0.13226286);\">accented</span>"
            ]
          },
          "metadata": {}
        },
        {
          "output_type": "stream",
          "name": "stdout",
          "text": [
            "by:   \t99.6500015258789%\n",
            "with:   \t0.3499999940395355%\n",
            "in:   \t0.0%\n",
            "on:   \t0.0%\n",
            "from:   \t0.0%\n",
            "--------\n",
            "\n"
          ]
        },
        {
          "output_type": "display_data",
          "data": {
            "text/plain": [
              "<IPython.core.display.HTML object>"
            ],
            "text/html": [
              "<span style=\"background-color:rgba(135,206,250,0.46234745);\">wine</span> <span style=\"background-color:rgba(135,206,250,0.5463977);\">review</span> <span style=\"background-color:rgba(135,206,250,0.12624264);\">:</span> <span style=\"background-color:rgba(135,206,250,0.44698715);\">germany</span> <span style=\"background-color:rgba(135,206,250,0.12560466);\">:</span> <span style=\"background-color:rgba(135,206,250,0.30710763);\">mosel</span> <span style=\"background-color:rgba(135,206,250,0.13419506);\">:</span> <span style=\"background-color:rgba(135,206,250,0.28982136);\">riesling</span> <span style=\"background-color:rgba(135,206,250,0.14494842);\">:</span> <span style=\"background-color:rgba(135,206,250,0.19885403);\">fresh</span> <span style=\"background-color:rgba(135,206,250,0.32668677);\">lime</span> <span style=\"background-color:rgba(135,206,250,0.17359796);\">and</span> <span style=\"background-color:rgba(135,206,250,0.43543717);\">lemon</span> <span style=\"background-color:rgba(135,206,250,0.47876897);\">flavors</span> <span style=\"background-color:rgba(135,206,250,0.3272853);\">are</span> <span style=\"background-color:rgba(135,206,250,1.0);\">accented</span> <span style=\"background-color:rgba(135,206,250,0.37173146);\">by</span>"
            ]
          },
          "metadata": {}
        },
        {
          "output_type": "stream",
          "name": "stdout",
          "text": [
            "a:   \t87.76000213623047%\n",
            "notes:   \t7.769999980926514%\n",
            "hints:   \t1.2300000190734863%\n",
            "sweet:   \t0.36000001430511475%\n",
            "an:   \t0.33000001311302185%\n",
            "--------\n",
            "\n"
          ]
        },
        {
          "output_type": "display_data",
          "data": {
            "text/plain": [
              "<IPython.core.display.HTML object>"
            ],
            "text/html": [
              "<span style=\"background-color:rgba(135,206,250,0.55923206);\">wine</span> <span style=\"background-color:rgba(135,206,250,0.8154163);\">review</span> <span style=\"background-color:rgba(135,206,250,0.17270638);\">:</span> <span style=\"background-color:rgba(135,206,250,0.4550938);\">germany</span> <span style=\"background-color:rgba(135,206,250,0.10611182);\">:</span> <span style=\"background-color:rgba(135,206,250,0.38530132);\">mosel</span> <span style=\"background-color:rgba(135,206,250,0.0976511);\">:</span> <span style=\"background-color:rgba(135,206,250,0.31538364);\">riesling</span> <span style=\"background-color:rgba(135,206,250,0.13782191);\">:</span> <span style=\"background-color:rgba(135,206,250,0.27823925);\">fresh</span> <span style=\"background-color:rgba(135,206,250,0.31694347);\">lime</span> <span style=\"background-color:rgba(135,206,250,0.17287625);\">and</span> <span style=\"background-color:rgba(135,206,250,0.40489912);\">lemon</span> <span style=\"background-color:rgba(135,206,250,0.44944742);\">flavors</span> <span style=\"background-color:rgba(135,206,250,0.4613103);\">are</span> <span style=\"background-color:rgba(135,206,250,0.9681322);\">accented</span> <span style=\"background-color:rgba(135,206,250,1.0);\">by</span> <span style=\"background-color:rgba(135,206,250,0.24553148);\">a</span>"
            ]
          },
          "metadata": {}
        },
        {
          "output_type": "stream",
          "name": "stdout",
          "text": [
            "hint:   \t41.68000030517578%\n",
            "touch:   \t20.389999389648438%\n",
            "crush:   \t12.59000015258789%\n",
            "streak:   \t5.010000228881836%\n",
            "slightly:   \t3.619999885559082%\n",
            "--------\n",
            "\n"
          ]
        },
        {
          "output_type": "display_data",
          "data": {
            "text/plain": [
              "<IPython.core.display.HTML object>"
            ],
            "text/html": [
              "<span style=\"background-color:rgba(135,206,250,0.62337005);\">wine</span> <span style=\"background-color:rgba(135,206,250,0.9949942);\">review</span> <span style=\"background-color:rgba(135,206,250,0.21923728);\">:</span> <span style=\"background-color:rgba(135,206,250,0.44178745);\">germany</span> <span style=\"background-color:rgba(135,206,250,0.15454799);\">:</span> <span style=\"background-color:rgba(135,206,250,0.18057737);\">mosel</span> <span style=\"background-color:rgba(135,206,250,0.1266008);\">:</span> <span style=\"background-color:rgba(135,206,250,0.18539019);\">riesling</span> <span style=\"background-color:rgba(135,206,250,0.17997527);\">:</span> <span style=\"background-color:rgba(135,206,250,0.09825684);\">fresh</span> <span style=\"background-color:rgba(135,206,250,0.12215901);\">lime</span> <span style=\"background-color:rgba(135,206,250,0.15454479);\">and</span> <span style=\"background-color:rgba(135,206,250,0.17595358);\">lemon</span> <span style=\"background-color:rgba(135,206,250,0.32239112);\">flavors</span> <span style=\"background-color:rgba(135,206,250,0.39184928);\">are</span> <span style=\"background-color:rgba(135,206,250,0.5280847);\">accented</span> <span style=\"background-color:rgba(135,206,250,1.0);\">by</span> <span style=\"background-color:rgba(135,206,250,0.5003949);\">a</span> <span style=\"background-color:rgba(135,206,250,0.31895432);\">touch</span>"
            ]
          },
          "metadata": {}
        },
        {
          "output_type": "stream",
          "name": "stdout",
          "text": [
            "of:   \t100.0%\n",
            "on:   \t0.0%\n",
            "more:   \t0.0%\n",
            "akin:   \t0.0%\n",
            "and:   \t0.0%\n",
            "--------\n",
            "\n"
          ]
        },
        {
          "output_type": "display_data",
          "data": {
            "text/plain": [
              "<IPython.core.display.HTML object>"
            ],
            "text/html": [
              "<span style=\"background-color:rgba(135,206,250,0.5073253);\">wine</span> <span style=\"background-color:rgba(135,206,250,0.66255563);\">review</span> <span style=\"background-color:rgba(135,206,250,0.14123508);\">:</span> <span style=\"background-color:rgba(135,206,250,0.621578);\">germany</span> <span style=\"background-color:rgba(135,206,250,0.09641999);\">:</span> <span style=\"background-color:rgba(135,206,250,0.48120922);\">mosel</span> <span style=\"background-color:rgba(135,206,250,0.12839675);\">:</span> <span style=\"background-color:rgba(135,206,250,0.54821056);\">riesling</span> <span style=\"background-color:rgba(135,206,250,0.15312453);\">:</span> <span style=\"background-color:rgba(135,206,250,0.27982408);\">fresh</span> <span style=\"background-color:rgba(135,206,250,0.27340677);\">lime</span> <span style=\"background-color:rgba(135,206,250,0.14752342);\">and</span> <span style=\"background-color:rgba(135,206,250,0.29976007);\">lemon</span> <span style=\"background-color:rgba(135,206,250,0.3867859);\">flavors</span> <span style=\"background-color:rgba(135,206,250,0.22570075);\">are</span> <span style=\"background-color:rgba(135,206,250,0.876128);\">accented</span> <span style=\"background-color:rgba(135,206,250,0.44990063);\">by</span> <span style=\"background-color:rgba(135,206,250,0.5544759);\">a</span> <span style=\"background-color:rgba(135,206,250,1.0);\">touch</span> <span style=\"background-color:rgba(135,206,250,0.3026171);\">of</span>"
            ]
          },
          "metadata": {}
        },
        {
          "output_type": "stream",
          "name": "stdout",
          "text": [
            "sweet:   \t26.309999465942383%\n",
            "honey:   \t16.299999237060547%\n",
            "smoke:   \t11.020000457763672%\n",
            "petrol:   \t4.0%\n",
            "fresh:   \t3.490000009536743%\n",
            "--------\n",
            "\n"
          ]
        },
        {
          "output_type": "display_data",
          "data": {
            "text/plain": [
              "<IPython.core.display.HTML object>"
            ],
            "text/html": [
              "<span style=\"background-color:rgba(135,206,250,0.67620295);\">wine</span> <span style=\"background-color:rgba(135,206,250,1.0);\">review</span> <span style=\"background-color:rgba(135,206,250,0.3054076);\">:</span> <span style=\"background-color:rgba(135,206,250,0.42824104);\">germany</span> <span style=\"background-color:rgba(135,206,250,0.23749211);\">:</span> <span style=\"background-color:rgba(135,206,250,0.2481408);\">mosel</span> <span style=\"background-color:rgba(135,206,250,0.19424748);\">:</span> <span style=\"background-color:rgba(135,206,250,0.28607136);\">riesling</span> <span style=\"background-color:rgba(135,206,250,0.20924366);\">:</span> <span style=\"background-color:rgba(135,206,250,0.10807177);\">fresh</span> <span style=\"background-color:rgba(135,206,250,0.15876627);\">lime</span> <span style=\"background-color:rgba(135,206,250,0.2608074);\">and</span> <span style=\"background-color:rgba(135,206,250,0.17281905);\">lemon</span> <span style=\"background-color:rgba(135,206,250,0.34093317);\">flavors</span> <span style=\"background-color:rgba(135,206,250,0.33709282);\">are</span> <span style=\"background-color:rgba(135,206,250,0.43846956);\">accented</span> <span style=\"background-color:rgba(135,206,250,0.46569717);\">by</span> <span style=\"background-color:rgba(135,206,250,0.751897);\">a</span> <span style=\"background-color:rgba(135,206,250,0.8963724);\">touch</span> <span style=\"background-color:rgba(135,206,250,0.6617071);\">of</span> <span style=\"background-color:rgba(135,206,250,0.37578598);\">saffron</span>"
            ]
          },
          "metadata": {}
        },
        {
          "output_type": "stream",
          "name": "stdout",
          "text": [
            "in:   \t65.58999633789062%\n",
            "and:   \t24.010000228881836%\n",
            "on:   \t10.359999656677246%\n",
            "this:   \t0.009999999776482582%\n",
            "that:   \t0.009999999776482582%\n",
            "--------\n",
            "\n"
          ]
        },
        {
          "output_type": "display_data",
          "data": {
            "text/plain": [
              "<IPython.core.display.HTML object>"
            ],
            "text/html": [
              "<span style=\"background-color:rgba(135,206,250,0.30694827);\">wine</span> <span style=\"background-color:rgba(135,206,250,0.58687836);\">review</span> <span style=\"background-color:rgba(135,206,250,0.12158504);\">:</span> <span style=\"background-color:rgba(135,206,250,0.29001516);\">germany</span> <span style=\"background-color:rgba(135,206,250,0.0770923);\">:</span> <span style=\"background-color:rgba(135,206,250,0.20019963);\">mosel</span> <span style=\"background-color:rgba(135,206,250,0.054072756);\">:</span> <span style=\"background-color:rgba(135,206,250,0.24930163);\">riesling</span> <span style=\"background-color:rgba(135,206,250,0.07982481);\">:</span> <span style=\"background-color:rgba(135,206,250,0.09815813);\">fresh</span> <span style=\"background-color:rgba(135,206,250,0.105472356);\">lime</span> <span style=\"background-color:rgba(135,206,250,0.07002373);\">and</span> <span style=\"background-color:rgba(135,206,250,0.09008165);\">lemon</span> <span style=\"background-color:rgba(135,206,250,0.16145223);\">flavors</span> <span style=\"background-color:rgba(135,206,250,0.12633938);\">are</span> <span style=\"background-color:rgba(135,206,250,0.31147864);\">accented</span> <span style=\"background-color:rgba(135,206,250,0.13155587);\">by</span> <span style=\"background-color:rgba(135,206,250,0.1637391);\">a</span> <span style=\"background-color:rgba(135,206,250,0.26503587);\">touch</span> <span style=\"background-color:rgba(135,206,250,0.27574572);\">of</span> <span style=\"background-color:rgba(135,206,250,1.0);\">saffron</span> <span style=\"background-color:rgba(135,206,250,0.12895566);\">in</span>"
            ]
          },
          "metadata": {}
        },
        {
          "output_type": "stream",
          "name": "stdout",
          "text": [
            "this:   \t99.98999786376953%\n",
            "the:   \t0.009999999776482582%\n",
            "a:   \t0.0%\n",
            "an:   \t0.0%\n",
            "style:   \t0.0%\n",
            "--------\n",
            "\n"
          ]
        },
        {
          "output_type": "display_data",
          "data": {
            "text/plain": [
              "<IPython.core.display.HTML object>"
            ],
            "text/html": [
              "<span style=\"background-color:rgba(135,206,250,0.3875053);\">wine</span> <span style=\"background-color:rgba(135,206,250,1.0);\">review</span> <span style=\"background-color:rgba(135,206,250,0.29525208);\">:</span> <span style=\"background-color:rgba(135,206,250,0.4673839);\">germany</span> <span style=\"background-color:rgba(135,206,250,0.1750271);\">:</span> <span style=\"background-color:rgba(135,206,250,0.30972463);\">mosel</span> <span style=\"background-color:rgba(135,206,250,0.11244856);\">:</span> <span style=\"background-color:rgba(135,206,250,0.46884704);\">riesling</span> <span style=\"background-color:rgba(135,206,250,0.12688917);\">:</span> <span style=\"background-color:rgba(135,206,250,0.18936412);\">fresh</span> <span style=\"background-color:rgba(135,206,250,0.13244608);\">lime</span> <span style=\"background-color:rgba(135,206,250,0.09843578);\">and</span> <span style=\"background-color:rgba(135,206,250,0.12611924);\">lemon</span> <span style=\"background-color:rgba(135,206,250,0.24063422);\">flavors</span> <span style=\"background-color:rgba(135,206,250,0.17264771);\">are</span> <span style=\"background-color:rgba(135,206,250,0.1947885);\">accented</span> <span style=\"background-color:rgba(135,206,250,0.15073831);\">by</span> <span style=\"background-color:rgba(135,206,250,0.10131477);\">a</span> <span style=\"background-color:rgba(135,206,250,0.20666039);\">touch</span> <span style=\"background-color:rgba(135,206,250,0.32350048);\">of</span> <span style=\"background-color:rgba(135,206,250,0.3531022);\">saffron</span> <span style=\"background-color:rgba(135,206,250,0.59309494);\">in</span> <span style=\"background-color:rgba(135,206,250,0.41998306);\">this</span>"
            ]
          },
          "metadata": {}
        },
        {
          "output_type": "stream",
          "name": "stdout",
          "text": [
            "dry:   \t47.79999923706055%\n",
            "off:   \t18.06999969482422%\n",
            "sprightly:   \t7.659999847412109%\n",
            "light:   \t6.150000095367432%\n",
            "delicately:   \t1.7200000286102295%\n",
            "--------\n",
            "\n"
          ]
        },
        {
          "output_type": "display_data",
          "data": {
            "text/plain": [
              "<IPython.core.display.HTML object>"
            ],
            "text/html": [
              "<span style=\"background-color:rgba(135,206,250,0.4348996);\">wine</span> <span style=\"background-color:rgba(135,206,250,1.0);\">review</span> <span style=\"background-color:rgba(135,206,250,0.19926603);\">:</span> <span style=\"background-color:rgba(135,206,250,0.23438285);\">germany</span> <span style=\"background-color:rgba(135,206,250,0.12285734);\">:</span> <span style=\"background-color:rgba(135,206,250,0.17219414);\">mosel</span> <span style=\"background-color:rgba(135,206,250,0.085788615);\">:</span> <span style=\"background-color:rgba(135,206,250,0.28571907);\">riesling</span> <span style=\"background-color:rgba(135,206,250,0.1113972);\">:</span> <span style=\"background-color:rgba(135,206,250,0.064817585);\">fresh</span> <span style=\"background-color:rgba(135,206,250,0.054324225);\">lime</span> <span style=\"background-color:rgba(135,206,250,0.08005342);\">and</span> <span style=\"background-color:rgba(135,206,250,0.040750377);\">lemon</span> <span style=\"background-color:rgba(135,206,250,0.1115359);\">flavors</span> <span style=\"background-color:rgba(135,206,250,0.078524664);\">are</span> <span style=\"background-color:rgba(135,206,250,0.092545964);\">accented</span> <span style=\"background-color:rgba(135,206,250,0.08542182);\">by</span> <span style=\"background-color:rgba(135,206,250,0.11887534);\">a</span> <span style=\"background-color:rgba(135,206,250,0.13435844);\">touch</span> <span style=\"background-color:rgba(135,206,250,0.1161824);\">of</span> <span style=\"background-color:rgba(135,206,250,0.3022697);\">saffron</span> <span style=\"background-color:rgba(135,206,250,0.20364033);\">in</span> <span style=\"background-color:rgba(135,206,250,0.6150286);\">this</span> <span style=\"background-color:rgba(135,206,250,0.21710888);\">off</span>"
            ]
          },
          "metadata": {}
        },
        {
          "output_type": "stream",
          "name": "stdout",
          "text": [
            "dry:   \t100.0%\n",
            "sweet:   \t0.0%\n",
            "kabinett:   \t0.0%\n",
            "juicy:   \t0.0%\n",
            "[UNK]:   \t0.0%\n",
            "--------\n",
            "\n"
          ]
        },
        {
          "output_type": "display_data",
          "data": {
            "text/plain": [
              "<IPython.core.display.HTML object>"
            ],
            "text/html": [
              "<span style=\"background-color:rgba(135,206,250,0.35287756);\">wine</span> <span style=\"background-color:rgba(135,206,250,0.72318465);\">review</span> <span style=\"background-color:rgba(135,206,250,0.18211101);\">:</span> <span style=\"background-color:rgba(135,206,250,0.47106442);\">germany</span> <span style=\"background-color:rgba(135,206,250,0.10707958);\">:</span> <span style=\"background-color:rgba(135,206,250,0.25705484);\">mosel</span> <span style=\"background-color:rgba(135,206,250,0.079118796);\">:</span> <span style=\"background-color:rgba(135,206,250,0.5743993);\">riesling</span> <span style=\"background-color:rgba(135,206,250,0.101475954);\">:</span> <span style=\"background-color:rgba(135,206,250,0.112146266);\">fresh</span> <span style=\"background-color:rgba(135,206,250,0.13928543);\">lime</span> <span style=\"background-color:rgba(135,206,250,0.10228908);\">and</span> <span style=\"background-color:rgba(135,206,250,0.124065414);\">lemon</span> <span style=\"background-color:rgba(135,206,250,0.18737064);\">flavors</span> <span style=\"background-color:rgba(135,206,250,0.11073135);\">are</span> <span style=\"background-color:rgba(135,206,250,0.15985297);\">accented</span> <span style=\"background-color:rgba(135,206,250,0.12717834);\">by</span> <span style=\"background-color:rgba(135,206,250,0.10753176);\">a</span> <span style=\"background-color:rgba(135,206,250,0.21704917);\">touch</span> <span style=\"background-color:rgba(135,206,250,0.21639699);\">of</span> <span style=\"background-color:rgba(135,206,250,0.2647872);\">saffron</span> <span style=\"background-color:rgba(135,206,250,0.3489975);\">in</span> <span style=\"background-color:rgba(135,206,250,1.0);\">this</span> <span style=\"background-color:rgba(135,206,250,0.9234222);\">off</span> <span style=\"background-color:rgba(135,206,250,0.39692307);\">dry</span>"
            ]
          },
          "metadata": {}
        },
        {
          "output_type": "stream",
          "name": "stdout",
          "text": [
            "riesling:   \t99.72000122070312%\n",
            "kabinett:   \t0.11999999731779099%\n",
            "scheurebe:   \t0.029999999329447746%\n",
            "wine:   \t0.019999999552965164%\n",
            "yet:   \t0.019999999552965164%\n",
            "--------\n",
            "\n"
          ]
        },
        {
          "output_type": "display_data",
          "data": {
            "text/plain": [
              "<IPython.core.display.HTML object>"
            ],
            "text/html": [
              "<span style=\"background-color:rgba(135,206,250,0.31687775);\">wine</span> <span style=\"background-color:rgba(135,206,250,1.0);\">review</span> <span style=\"background-color:rgba(135,206,250,0.1893056);\">:</span> <span style=\"background-color:rgba(135,206,250,0.30438697);\">germany</span> <span style=\"background-color:rgba(135,206,250,0.074845955);\">:</span> <span style=\"background-color:rgba(135,206,250,0.11967477);\">mosel</span> <span style=\"background-color:rgba(135,206,250,0.067028254);\">:</span> <span style=\"background-color:rgba(135,206,250,0.091754735);\">riesling</span> <span style=\"background-color:rgba(135,206,250,0.08595507);\">:</span> <span style=\"background-color:rgba(135,206,250,0.051872592);\">fresh</span> <span style=\"background-color:rgba(135,206,250,0.06646314);\">lime</span> <span style=\"background-color:rgba(135,206,250,0.05558319);\">and</span> <span style=\"background-color:rgba(135,206,250,0.069045);\">lemon</span> <span style=\"background-color:rgba(135,206,250,0.15362133);\">flavors</span> <span style=\"background-color:rgba(135,206,250,0.12626913);\">are</span> <span style=\"background-color:rgba(135,206,250,0.086202465);\">accented</span> <span style=\"background-color:rgba(135,206,250,0.1826351);\">by</span> <span style=\"background-color:rgba(135,206,250,0.11279317);\">a</span> <span style=\"background-color:rgba(135,206,250,0.11746938);\">touch</span> <span style=\"background-color:rgba(135,206,250,0.085108295);\">of</span> <span style=\"background-color:rgba(135,206,250,0.08707155);\">saffron</span> <span style=\"background-color:rgba(135,206,250,0.14014436);\">in</span> <span style=\"background-color:rgba(135,206,250,0.3497495);\">this</span> <span style=\"background-color:rgba(135,206,250,0.18078457);\">off</span> <span style=\"background-color:rgba(135,206,250,0.19511141);\">dry</span> <span style=\"background-color:rgba(135,206,250,0.2115871);\">riesling</span>"
            ]
          },
          "metadata": {}
        },
        {
          "output_type": "stream",
          "name": "stdout",
          "text": [
            "it:   \t95.56999969482422%\n",
            "the:   \t3.069999933242798%\n",
            "zesty:   \t0.17000000178813934%\n",
            "a:   \t0.10999999940395355%\n",
            "dry:   \t0.10999999940395355%\n",
            "--------\n",
            "\n"
          ]
        },
        {
          "output_type": "display_data",
          "data": {
            "text/plain": [
              "<IPython.core.display.HTML object>"
            ],
            "text/html": [
              "<span style=\"background-color:rgba(135,206,250,0.28913268);\">wine</span> <span style=\"background-color:rgba(135,206,250,1.0);\">review</span> <span style=\"background-color:rgba(135,206,250,0.3329671);\">:</span> <span style=\"background-color:rgba(135,206,250,0.3520219);\">germany</span> <span style=\"background-color:rgba(135,206,250,0.16265944);\">:</span> <span style=\"background-color:rgba(135,206,250,0.22183487);\">mosel</span> <span style=\"background-color:rgba(135,206,250,0.105506085);\">:</span> <span style=\"background-color:rgba(135,206,250,0.14057392);\">riesling</span> <span style=\"background-color:rgba(135,206,250,0.1016177);\">:</span> <span style=\"background-color:rgba(135,206,250,0.091890894);\">fresh</span> <span style=\"background-color:rgba(135,206,250,0.10699152);\">lime</span> <span style=\"background-color:rgba(135,206,250,0.05508684);\">and</span> <span style=\"background-color:rgba(135,206,250,0.10541183);\">lemon</span> <span style=\"background-color:rgba(135,206,250,0.14394833);\">flavors</span> <span style=\"background-color:rgba(135,206,250,0.108214855);\">are</span> <span style=\"background-color:rgba(135,206,250,0.11917827);\">accented</span> <span style=\"background-color:rgba(135,206,250,0.10425499);\">by</span> <span style=\"background-color:rgba(135,206,250,0.07207622);\">a</span> <span style=\"background-color:rgba(135,206,250,0.114590816);\">touch</span> <span style=\"background-color:rgba(135,206,250,0.11885213);\">of</span> <span style=\"background-color:rgba(135,206,250,0.16369493);\">saffron</span> <span style=\"background-color:rgba(135,206,250,0.15009879);\">in</span> <span style=\"background-color:rgba(135,206,250,0.19736814);\">this</span> <span style=\"background-color:rgba(135,206,250,0.2077094);\">off</span> <span style=\"background-color:rgba(135,206,250,0.5164574);\">dry</span> <span style=\"background-color:rgba(135,206,250,0.42971435);\">riesling</span> <span style=\"background-color:rgba(135,206,250,0.35519075);\">it</span>"
            ]
          },
          "metadata": {}
        },
        {
          "output_type": "stream",
          "name": "stdout",
          "text": [
            "s:   \t99.7699966430664%\n",
            "has:   \t0.10000000149011612%\n",
            "is:   \t0.05999999865889549%\n",
            "offers:   \t0.029999999329447746%\n",
            "finishes:   \t0.019999999552965164%\n",
            "--------\n",
            "\n"
          ]
        },
        {
          "output_type": "display_data",
          "data": {
            "text/plain": [
              "<IPython.core.display.HTML object>"
            ],
            "text/html": [
              "<span style=\"background-color:rgba(135,206,250,0.28943357);\">wine</span> <span style=\"background-color:rgba(135,206,250,0.72753966);\">review</span> <span style=\"background-color:rgba(135,206,250,0.16592133);\">:</span> <span style=\"background-color:rgba(135,206,250,0.34520218);\">germany</span> <span style=\"background-color:rgba(135,206,250,0.068587594);\">:</span> <span style=\"background-color:rgba(135,206,250,0.2781108);\">mosel</span> <span style=\"background-color:rgba(135,206,250,0.05607236);\">:</span> <span style=\"background-color:rgba(135,206,250,0.23529562);\">riesling</span> <span style=\"background-color:rgba(135,206,250,0.08260796);\">:</span> <span style=\"background-color:rgba(135,206,250,0.14054266);\">fresh</span> <span style=\"background-color:rgba(135,206,250,0.09118165);\">lime</span> <span style=\"background-color:rgba(135,206,250,0.05243148);\">and</span> <span style=\"background-color:rgba(135,206,250,0.0873153);\">lemon</span> <span style=\"background-color:rgba(135,206,250,0.13504559);\">flavors</span> <span style=\"background-color:rgba(135,206,250,0.0633905);\">are</span> <span style=\"background-color:rgba(135,206,250,0.10344532);\">accented</span> <span style=\"background-color:rgba(135,206,250,0.07411746);\">by</span> <span style=\"background-color:rgba(135,206,250,0.06671664);\">a</span> <span style=\"background-color:rgba(135,206,250,0.08476124);\">touch</span> <span style=\"background-color:rgba(135,206,250,0.08053774);\">of</span> <span style=\"background-color:rgba(135,206,250,0.19309679);\">saffron</span> <span style=\"background-color:rgba(135,206,250,0.11460079);\">in</span> <span style=\"background-color:rgba(135,206,250,0.1839912);\">this</span> <span style=\"background-color:rgba(135,206,250,0.20395052);\">off</span> <span style=\"background-color:rgba(135,206,250,0.30705342);\">dry</span> <span style=\"background-color:rgba(135,206,250,0.42323902);\">riesling</span> <span style=\"background-color:rgba(135,206,250,1.0);\">it</span> <span style=\"background-color:rgba(135,206,250,0.280524);\">s</span>"
            ]
          },
          "metadata": {}
        },
        {
          "output_type": "stream",
          "name": "stdout",
          "text": [
            "a:   \t58.95000076293945%\n",
            "light:   \t4.300000190734863%\n",
            "delicately:   \t4.269999980926514%\n",
            "juicy:   \t4.059999942779541%\n",
            "delicate:   \t4.019999980926514%\n",
            "--------\n",
            "\n"
          ]
        },
        {
          "output_type": "display_data",
          "data": {
            "text/plain": [
              "<IPython.core.display.HTML object>"
            ],
            "text/html": [
              "<span style=\"background-color:rgba(135,206,250,0.3950727);\">wine</span> <span style=\"background-color:rgba(135,206,250,1.0);\">review</span> <span style=\"background-color:rgba(135,206,250,0.2490041);\">:</span> <span style=\"background-color:rgba(135,206,250,0.41915843);\">germany</span> <span style=\"background-color:rgba(135,206,250,0.10888015);\">:</span> <span style=\"background-color:rgba(135,206,250,0.31044424);\">mosel</span> <span style=\"background-color:rgba(135,206,250,0.09042466);\">:</span> <span style=\"background-color:rgba(135,206,250,0.29264373);\">riesling</span> <span style=\"background-color:rgba(135,206,250,0.11969112);\">:</span> <span style=\"background-color:rgba(135,206,250,0.13883497);\">fresh</span> <span style=\"background-color:rgba(135,206,250,0.09661989);\">lime</span> <span style=\"background-color:rgba(135,206,250,0.07746172);\">and</span> <span style=\"background-color:rgba(135,206,250,0.088047475);\">lemon</span> <span style=\"background-color:rgba(135,206,250,0.14240305);\">flavors</span> <span style=\"background-color:rgba(135,206,250,0.05113127);\">are</span> <span style=\"background-color:rgba(135,206,250,0.12424567);\">accented</span> <span style=\"background-color:rgba(135,206,250,0.07379706);\">by</span> <span style=\"background-color:rgba(135,206,250,0.067990206);\">a</span> <span style=\"background-color:rgba(135,206,250,0.059433218);\">touch</span> <span style=\"background-color:rgba(135,206,250,0.09883674);\">of</span> <span style=\"background-color:rgba(135,206,250,0.26152694);\">saffron</span> <span style=\"background-color:rgba(135,206,250,0.11140853);\">in</span> <span style=\"background-color:rgba(135,206,250,0.29237312);\">this</span> <span style=\"background-color:rgba(135,206,250,0.24290626);\">off</span> <span style=\"background-color:rgba(135,206,250,0.5678506);\">dry</span> <span style=\"background-color:rgba(135,206,250,0.32015625);\">riesling</span> <span style=\"background-color:rgba(135,206,250,0.88276356);\">it</span> <span style=\"background-color:rgba(135,206,250,0.67709947);\">s</span> <span style=\"background-color:rgba(135,206,250,0.33205715);\">slightly</span>"
            ]
          },
          "metadata": {}
        },
        {
          "output_type": "stream",
          "name": "stdout",
          "text": [
            "sweet:   \t91.01000213623047%\n",
            "waxy:   \t1.7400000095367432%\n",
            "tart:   \t0.949999988079071%\n",
            "rustic:   \t0.949999988079071%\n",
            "bitter:   \t0.7099999785423279%\n",
            "--------\n",
            "\n"
          ]
        },
        {
          "output_type": "display_data",
          "data": {
            "text/plain": [
              "<IPython.core.display.HTML object>"
            ],
            "text/html": [
              "<span style=\"background-color:rgba(135,206,250,0.38037077);\">wine</span> <span style=\"background-color:rgba(135,206,250,1.0);\">review</span> <span style=\"background-color:rgba(135,206,250,0.27406934);\">:</span> <span style=\"background-color:rgba(135,206,250,0.47230566);\">germany</span> <span style=\"background-color:rgba(135,206,250,0.13000873);\">:</span> <span style=\"background-color:rgba(135,206,250,0.2536351);\">mosel</span> <span style=\"background-color:rgba(135,206,250,0.094746456);\">:</span> <span style=\"background-color:rgba(135,206,250,0.5814986);\">riesling</span> <span style=\"background-color:rgba(135,206,250,0.10306081);\">:</span> <span style=\"background-color:rgba(135,206,250,0.08463077);\">fresh</span> <span style=\"background-color:rgba(135,206,250,0.15219578);\">lime</span> <span style=\"background-color:rgba(135,206,250,0.094584815);\">and</span> <span style=\"background-color:rgba(135,206,250,0.12269486);\">lemon</span> <span style=\"background-color:rgba(135,206,250,0.24270761);\">flavors</span> <span style=\"background-color:rgba(135,206,250,0.09730431);\">are</span> <span style=\"background-color:rgba(135,206,250,0.11645329);\">accented</span> <span style=\"background-color:rgba(135,206,250,0.07762551);\">by</span> <span style=\"background-color:rgba(135,206,250,0.07521681);\">a</span> <span style=\"background-color:rgba(135,206,250,0.12876531);\">touch</span> <span style=\"background-color:rgba(135,206,250,0.11665376);\">of</span> <span style=\"background-color:rgba(135,206,250,0.24871698);\">saffron</span> <span style=\"background-color:rgba(135,206,250,0.1115007);\">in</span> <span style=\"background-color:rgba(135,206,250,0.30229458);\">this</span> <span style=\"background-color:rgba(135,206,250,0.1838656);\">off</span> <span style=\"background-color:rgba(135,206,250,0.22826499);\">dry</span> <span style=\"background-color:rgba(135,206,250,0.65856004);\">riesling</span> <span style=\"background-color:rgba(135,206,250,0.79096806);\">it</span> <span style=\"background-color:rgba(135,206,250,0.7397486);\">s</span> <span style=\"background-color:rgba(135,206,250,0.34461638);\">slightly</span> <span style=\"background-color:rgba(135,206,250,0.52016556);\">austere</span>"
            ]
          },
          "metadata": {}
        },
        {
          "output_type": "stream",
          "name": "stdout",
          "text": [
            "and:   \t44.689998626708984%\n",
            "in:   \t22.469999313354492%\n",
            "but:   \t21.979999542236328%\n",
            "on:   \t3.9200000762939453%\n",
            "with:   \t3.4800000190734863%\n",
            "--------\n",
            "\n"
          ]
        },
        {
          "output_type": "display_data",
          "data": {
            "text/plain": [
              "<IPython.core.display.HTML object>"
            ],
            "text/html": [
              "<span style=\"background-color:rgba(135,206,250,0.11995517);\">wine</span> <span style=\"background-color:rgba(135,206,250,0.27620968);\">review</span> <span style=\"background-color:rgba(135,206,250,0.08996518);\">:</span> <span style=\"background-color:rgba(135,206,250,0.2094759);\">germany</span> <span style=\"background-color:rgba(135,206,250,0.035083756);\">:</span> <span style=\"background-color:rgba(135,206,250,0.15335056);\">mosel</span> <span style=\"background-color:rgba(135,206,250,0.031307034);\">:</span> <span style=\"background-color:rgba(135,206,250,0.14526153);\">riesling</span> <span style=\"background-color:rgba(135,206,250,0.04118966);\">:</span> <span style=\"background-color:rgba(135,206,250,0.05930401);\">fresh</span> <span style=\"background-color:rgba(135,206,250,0.057858154);\">lime</span> <span style=\"background-color:rgba(135,206,250,0.019782001);\">and</span> <span style=\"background-color:rgba(135,206,250,0.048557725);\">lemon</span> <span style=\"background-color:rgba(135,206,250,0.068412036);\">flavors</span> <span style=\"background-color:rgba(135,206,250,0.032049343);\">are</span> <span style=\"background-color:rgba(135,206,250,0.06873113);\">accented</span> <span style=\"background-color:rgba(135,206,250,0.027865045);\">by</span> <span style=\"background-color:rgba(135,206,250,0.025658237);\">a</span> <span style=\"background-color:rgba(135,206,250,0.038163472);\">touch</span> <span style=\"background-color:rgba(135,206,250,0.02902453);\">of</span> <span style=\"background-color:rgba(135,206,250,0.098060586);\">saffron</span> <span style=\"background-color:rgba(135,206,250,0.03463458);\">in</span> <span style=\"background-color:rgba(135,206,250,0.06508442);\">this</span> <span style=\"background-color:rgba(135,206,250,0.06870875);\">off</span> <span style=\"background-color:rgba(135,206,250,0.1617123);\">dry</span> <span style=\"background-color:rgba(135,206,250,0.13436927);\">riesling</span> <span style=\"background-color:rgba(135,206,250,0.13941987);\">it</span> <span style=\"background-color:rgba(135,206,250,0.20129569);\">s</span> <span style=\"background-color:rgba(135,206,250,0.21021576);\">slightly</span> <span style=\"background-color:rgba(135,206,250,1.0);\">austere</span> <span style=\"background-color:rgba(135,206,250,0.1854681);\">and</span>"
            ]
          },
          "metadata": {}
        },
        {
          "output_type": "stream",
          "name": "stdout",
          "text": [
            "spry:   \t23.290000915527344%\n",
            "minerally:   \t11.899999618530273%\n",
            "elegant:   \t8.390000343322754%\n",
            "linear:   \t7.699999809265137%\n",
            "refreshing:   \t5.599999904632568%\n",
            "--------\n",
            "\n"
          ]
        },
        {
          "output_type": "display_data",
          "data": {
            "text/plain": [
              "<IPython.core.display.HTML object>"
            ],
            "text/html": [
              "<span style=\"background-color:rgba(135,206,250,0.36673996);\">wine</span> <span style=\"background-color:rgba(135,206,250,1.0);\">review</span> <span style=\"background-color:rgba(135,206,250,0.27554914);\">:</span> <span style=\"background-color:rgba(135,206,250,0.6943354);\">germany</span> <span style=\"background-color:rgba(135,206,250,0.119873986);\">:</span> <span style=\"background-color:rgba(135,206,250,0.34004784);\">mosel</span> <span style=\"background-color:rgba(135,206,250,0.09734449);\">:</span> <span style=\"background-color:rgba(135,206,250,0.39511237);\">riesling</span> <span style=\"background-color:rgba(135,206,250,0.09863795);\">:</span> <span style=\"background-color:rgba(135,206,250,0.08032033);\">fresh</span> <span style=\"background-color:rgba(135,206,250,0.13808231);\">lime</span> <span style=\"background-color:rgba(135,206,250,0.07063547);\">and</span> <span style=\"background-color:rgba(135,206,250,0.123680554);\">lemon</span> <span style=\"background-color:rgba(135,206,250,0.16191746);\">flavors</span> <span style=\"background-color:rgba(135,206,250,0.0793519);\">are</span> <span style=\"background-color:rgba(135,206,250,0.13613789);\">accented</span> <span style=\"background-color:rgba(135,206,250,0.051824972);\">by</span> <span style=\"background-color:rgba(135,206,250,0.05828498);\">a</span> <span style=\"background-color:rgba(135,206,250,0.10623822);\">touch</span> <span style=\"background-color:rgba(135,206,250,0.05677685);\">of</span> <span style=\"background-color:rgba(135,206,250,0.20685391);\">saffron</span> <span style=\"background-color:rgba(135,206,250,0.09433477);\">in</span> <span style=\"background-color:rgba(135,206,250,0.16217113);\">this</span> <span style=\"background-color:rgba(135,206,250,0.12523064);\">off</span> <span style=\"background-color:rgba(135,206,250,0.2188639);\">dry</span> <span style=\"background-color:rgba(135,206,250,0.34270695);\">riesling</span> <span style=\"background-color:rgba(135,206,250,0.36890194);\">it</span> <span style=\"background-color:rgba(135,206,250,0.5452531);\">s</span> <span style=\"background-color:rgba(135,206,250,0.32672155);\">slightly</span> <span style=\"background-color:rgba(135,206,250,0.7742411);\">austere</span> <span style=\"background-color:rgba(135,206,250,0.672229);\">and</span> <span style=\"background-color:rgba(135,206,250,0.3237336);\">light</span>"
            ]
          },
          "metadata": {}
        },
        {
          "output_type": "stream",
          "name": "stdout",
          "text": [
            "in:   \t48.59000015258789%\n",
            "footed:   \t38.5%\n",
            "on:   \t8.15999984741211%\n",
            "bodied:   \t4.53000020980835%\n",
            "but:   \t0.11999999731779099%\n",
            "--------\n",
            "\n"
          ]
        },
        {
          "output_type": "display_data",
          "data": {
            "text/plain": [
              "<IPython.core.display.HTML object>"
            ],
            "text/html": [
              "<span style=\"background-color:rgba(135,206,250,0.19848615);\">wine</span> <span style=\"background-color:rgba(135,206,250,0.5866064);\">review</span> <span style=\"background-color:rgba(135,206,250,0.15967734);\">:</span> <span style=\"background-color:rgba(135,206,250,0.36536515);\">germany</span> <span style=\"background-color:rgba(135,206,250,0.072435565);\">:</span> <span style=\"background-color:rgba(135,206,250,0.21993431);\">mosel</span> <span style=\"background-color:rgba(135,206,250,0.046658944);\">:</span> <span style=\"background-color:rgba(135,206,250,0.23739074);\">riesling</span> <span style=\"background-color:rgba(135,206,250,0.05971319);\">:</span> <span style=\"background-color:rgba(135,206,250,0.051429726);\">fresh</span> <span style=\"background-color:rgba(135,206,250,0.064862214);\">lime</span> <span style=\"background-color:rgba(135,206,250,0.040614065);\">and</span> <span style=\"background-color:rgba(135,206,250,0.05064844);\">lemon</span> <span style=\"background-color:rgba(135,206,250,0.09798362);\">flavors</span> <span style=\"background-color:rgba(135,206,250,0.04773549);\">are</span> <span style=\"background-color:rgba(135,206,250,0.07019668);\">accented</span> <span style=\"background-color:rgba(135,206,250,0.036575943);\">by</span> <span style=\"background-color:rgba(135,206,250,0.043426845);\">a</span> <span style=\"background-color:rgba(135,206,250,0.07214859);\">touch</span> <span style=\"background-color:rgba(135,206,250,0.03434856);\">of</span> <span style=\"background-color:rgba(135,206,250,0.13432384);\">saffron</span> <span style=\"background-color:rgba(135,206,250,0.022169877);\">in</span> <span style=\"background-color:rgba(135,206,250,0.1282789);\">this</span> <span style=\"background-color:rgba(135,206,250,0.07903952);\">off</span> <span style=\"background-color:rgba(135,206,250,0.18778887);\">dry</span> <span style=\"background-color:rgba(135,206,250,0.11470962);\">riesling</span> <span style=\"background-color:rgba(135,206,250,0.1319672);\">it</span> <span style=\"background-color:rgba(135,206,250,0.09784269);\">s</span> <span style=\"background-color:rgba(135,206,250,0.1935373);\">slightly</span> <span style=\"background-color:rgba(135,206,250,1.0);\">austere</span> <span style=\"background-color:rgba(135,206,250,0.29287463);\">and</span> <span style=\"background-color:rgba(135,206,250,0.89362603);\">light</span> <span style=\"background-color:rgba(135,206,250,0.110460766);\">in</span>"
            ]
          },
          "metadata": {}
        },
        {
          "output_type": "stream",
          "name": "stdout",
          "text": [
            "style:   \t84.44999694824219%\n",
            "body:   \t12.0%\n",
            "texture:   \t1.590000033378601%\n",
            "its:   \t0.6100000143051147%\n",
            "profile:   \t0.3100000023841858%\n",
            "--------\n",
            "\n"
          ]
        },
        {
          "output_type": "display_data",
          "data": {
            "text/plain": [
              "<IPython.core.display.HTML object>"
            ],
            "text/html": [
              "<span style=\"background-color:rgba(135,206,250,0.26322925);\">wine</span> <span style=\"background-color:rgba(135,206,250,1.0);\">review</span> <span style=\"background-color:rgba(135,206,250,0.23309992);\">:</span> <span style=\"background-color:rgba(135,206,250,0.25114363);\">germany</span> <span style=\"background-color:rgba(135,206,250,0.089010246);\">:</span> <span style=\"background-color:rgba(135,206,250,0.14761667);\">mosel</span> <span style=\"background-color:rgba(135,206,250,0.056020606);\">:</span> <span style=\"background-color:rgba(135,206,250,0.2589705);\">riesling</span> <span style=\"background-color:rgba(135,206,250,0.07397255);\">:</span> <span style=\"background-color:rgba(135,206,250,0.051284928);\">fresh</span> <span style=\"background-color:rgba(135,206,250,0.06911406);\">lime</span> <span style=\"background-color:rgba(135,206,250,0.051834483);\">and</span> <span style=\"background-color:rgba(135,206,250,0.059104208);\">lemon</span> <span style=\"background-color:rgba(135,206,250,0.09804592);\">flavors</span> <span style=\"background-color:rgba(135,206,250,0.061168786);\">are</span> <span style=\"background-color:rgba(135,206,250,0.05373796);\">accented</span> <span style=\"background-color:rgba(135,206,250,0.04478468);\">by</span> <span style=\"background-color:rgba(135,206,250,0.023416447);\">a</span> <span style=\"background-color:rgba(135,206,250,0.043772258);\">touch</span> <span style=\"background-color:rgba(135,206,250,0.037490193);\">of</span> <span style=\"background-color:rgba(135,206,250,0.08884384);\">saffron</span> <span style=\"background-color:rgba(135,206,250,0.037907235);\">in</span> <span style=\"background-color:rgba(135,206,250,0.11332978);\">this</span> <span style=\"background-color:rgba(135,206,250,0.06175223);\">off</span> <span style=\"background-color:rgba(135,206,250,0.07053689);\">dry</span> <span style=\"background-color:rgba(135,206,250,0.14605056);\">riesling</span> <span style=\"background-color:rgba(135,206,250,0.31654164);\">it</span> <span style=\"background-color:rgba(135,206,250,0.14188491);\">s</span> <span style=\"background-color:rgba(135,206,250,0.1011712);\">slightly</span> <span style=\"background-color:rgba(135,206,250,0.23625018);\">austere</span> <span style=\"background-color:rgba(135,206,250,0.22441597);\">and</span> <span style=\"background-color:rgba(135,206,250,0.27740788);\">light</span> <span style=\"background-color:rgba(135,206,250,0.55181456);\">in</span> <span style=\"background-color:rgba(135,206,250,0.3080253);\">style</span>"
            ]
          },
          "metadata": {}
        },
        {
          "output_type": "stream",
          "name": "stdout",
          "text": [
            "but:   \t60.939998626708984%\n",
            "with:   \t20.850000381469727%\n",
            "it:   \t9.449999809265137%\n",
            "yet:   \t6.070000171661377%\n",
            ":   \t1.350000023841858%\n",
            "--------\n",
            "\n"
          ]
        },
        {
          "output_type": "display_data",
          "data": {
            "text/plain": [
              "<IPython.core.display.HTML object>"
            ],
            "text/html": [
              "<span style=\"background-color:rgba(135,206,250,0.28746733);\">wine</span> <span style=\"background-color:rgba(135,206,250,1.0);\">review</span> <span style=\"background-color:rgba(135,206,250,0.34456134);\">:</span> <span style=\"background-color:rgba(135,206,250,0.584753);\">germany</span> <span style=\"background-color:rgba(135,206,250,0.13300458);\">:</span> <span style=\"background-color:rgba(135,206,250,0.22103201);\">mosel</span> <span style=\"background-color:rgba(135,206,250,0.09072315);\">:</span> <span style=\"background-color:rgba(135,206,250,0.17781083);\">riesling</span> <span style=\"background-color:rgba(135,206,250,0.08297071);\">:</span> <span style=\"background-color:rgba(135,206,250,0.03105578);\">fresh</span> <span style=\"background-color:rgba(135,206,250,0.06806631);\">lime</span> <span style=\"background-color:rgba(135,206,250,0.047861114);\">and</span> <span style=\"background-color:rgba(135,206,250,0.059894726);\">lemon</span> <span style=\"background-color:rgba(135,206,250,0.11908364);\">flavors</span> <span style=\"background-color:rgba(135,206,250,0.059527457);\">are</span> <span style=\"background-color:rgba(135,206,250,0.07224874);\">accented</span> <span style=\"background-color:rgba(135,206,250,0.048763525);\">by</span> <span style=\"background-color:rgba(135,206,250,0.04928754);\">a</span> <span style=\"background-color:rgba(135,206,250,0.055458825);\">touch</span> <span style=\"background-color:rgba(135,206,250,0.04745292);\">of</span> <span style=\"background-color:rgba(135,206,250,0.09879583);\">saffron</span> <span style=\"background-color:rgba(135,206,250,0.042402513);\">in</span> <span style=\"background-color:rgba(135,206,250,0.088632375);\">this</span> <span style=\"background-color:rgba(135,206,250,0.063368425);\">off</span> <span style=\"background-color:rgba(135,206,250,0.07362284);\">dry</span> <span style=\"background-color:rgba(135,206,250,0.1021464);\">riesling</span> <span style=\"background-color:rgba(135,206,250,0.18827558);\">it</span> <span style=\"background-color:rgba(135,206,250,0.15708922);\">s</span> <span style=\"background-color:rgba(135,206,250,0.118206315);\">slightly</span> <span style=\"background-color:rgba(135,206,250,0.21533671);\">austere</span> <span style=\"background-color:rgba(135,206,250,0.15358143);\">and</span> <span style=\"background-color:rgba(135,206,250,0.22728792);\">light</span> <span style=\"background-color:rgba(135,206,250,0.2570995);\">in</span> <span style=\"background-color:rgba(135,206,250,0.65065163);\">style</span> <span style=\"background-color:rgba(135,206,250,0.28178725);\">yet</span>"
            ]
          },
          "metadata": {}
        },
        {
          "output_type": "stream",
          "name": "stdout",
          "text": [
            "elegant:   \t18.799999237060547%\n",
            "balanced:   \t15.970000267028809%\n",
            "it:   \t11.979999542236328%\n",
            "elegantly:   \t8.220000267028809%\n",
            "intensely:   \t7.0%\n",
            "--------\n",
            "\n"
          ]
        },
        {
          "output_type": "display_data",
          "data": {
            "text/plain": [
              "<IPython.core.display.HTML object>"
            ],
            "text/html": [
              "<span style=\"background-color:rgba(135,206,250,0.1612123);\">wine</span> <span style=\"background-color:rgba(135,206,250,0.49596322);\">review</span> <span style=\"background-color:rgba(135,206,250,0.16373594);\">:</span> <span style=\"background-color:rgba(135,206,250,0.38854226);\">germany</span> <span style=\"background-color:rgba(135,206,250,0.06239248);\">:</span> <span style=\"background-color:rgba(135,206,250,0.18667153);\">mosel</span> <span style=\"background-color:rgba(135,206,250,0.059479907);\">:</span> <span style=\"background-color:rgba(135,206,250,0.33190423);\">riesling</span> <span style=\"background-color:rgba(135,206,250,0.072334625);\">:</span> <span style=\"background-color:rgba(135,206,250,0.056437816);\">fresh</span> <span style=\"background-color:rgba(135,206,250,0.11316479);\">lime</span> <span style=\"background-color:rgba(135,206,250,0.059871573);\">and</span> <span style=\"background-color:rgba(135,206,250,0.09281688);\">lemon</span> <span style=\"background-color:rgba(135,206,250,0.14290588);\">flavors</span> <span style=\"background-color:rgba(135,206,250,0.06570423);\">are</span> <span style=\"background-color:rgba(135,206,250,0.087282866);\">accented</span> <span style=\"background-color:rgba(135,206,250,0.034997236);\">by</span> <span style=\"background-color:rgba(135,206,250,0.04508352);\">a</span> <span style=\"background-color:rgba(135,206,250,0.049601577);\">touch</span> <span style=\"background-color:rgba(135,206,250,0.03968811);\">of</span> <span style=\"background-color:rgba(135,206,250,0.11011584);\">saffron</span> <span style=\"background-color:rgba(135,206,250,0.03187667);\">in</span> <span style=\"background-color:rgba(135,206,250,0.12321535);\">this</span> <span style=\"background-color:rgba(135,206,250,0.060639985);\">off</span> <span style=\"background-color:rgba(135,206,250,0.16020574);\">dry</span> <span style=\"background-color:rgba(135,206,250,0.1738908);\">riesling</span> <span style=\"background-color:rgba(135,206,250,0.19943805);\">it</span> <span style=\"background-color:rgba(135,206,250,0.15501294);\">s</span> <span style=\"background-color:rgba(135,206,250,0.102908246);\">slightly</span> <span style=\"background-color:rgba(135,206,250,0.23349288);\">austere</span> <span style=\"background-color:rgba(135,206,250,0.20862277);\">and</span> <span style=\"background-color:rgba(135,206,250,0.22549304);\">light</span> <span style=\"background-color:rgba(135,206,250,0.31548086);\">in</span> <span style=\"background-color:rgba(135,206,250,0.9013151);\">style</span> <span style=\"background-color:rgba(135,206,250,1.0);\">yet</span> <span style=\"background-color:rgba(135,206,250,0.4388203);\">fresh</span>"
            ]
          },
          "metadata": {}
        },
        {
          "output_type": "stream",
          "name": "stdout",
          "text": [
            "with:   \t73.33999633789062%\n",
            "in:   \t18.25%\n",
            "and:   \t3.299999952316284%\n",
            "it:   \t2.200000047683716%\n",
            "on:   \t1.7699999809265137%\n",
            "--------\n",
            "\n"
          ]
        },
        {
          "output_type": "display_data",
          "data": {
            "text/plain": [
              "<IPython.core.display.HTML object>"
            ],
            "text/html": [
              "<span style=\"background-color:rgba(135,206,250,0.31393284);\">wine</span> <span style=\"background-color:rgba(135,206,250,1.0);\">review</span> <span style=\"background-color:rgba(135,206,250,0.49361253);\">:</span> <span style=\"background-color:rgba(135,206,250,0.5693363);\">germany</span> <span style=\"background-color:rgba(135,206,250,0.16098087);\">:</span> <span style=\"background-color:rgba(135,206,250,0.4143496);\">mosel</span> <span style=\"background-color:rgba(135,206,250,0.110625446);\">:</span> <span style=\"background-color:rgba(135,206,250,0.35166693);\">riesling</span> <span style=\"background-color:rgba(135,206,250,0.13308956);\">:</span> <span style=\"background-color:rgba(135,206,250,0.112248935);\">fresh</span> <span style=\"background-color:rgba(135,206,250,0.17266715);\">lime</span> <span style=\"background-color:rgba(135,206,250,0.04886793);\">and</span> <span style=\"background-color:rgba(135,206,250,0.14620902);\">lemon</span> <span style=\"background-color:rgba(135,206,250,0.20826086);\">flavors</span> <span style=\"background-color:rgba(135,206,250,0.060299452);\">are</span> <span style=\"background-color:rgba(135,206,250,0.11878764);\">accented</span> <span style=\"background-color:rgba(135,206,250,0.039306022);\">by</span> <span style=\"background-color:rgba(135,206,250,0.040157326);\">a</span> <span style=\"background-color:rgba(135,206,250,0.069939665);\">touch</span> <span style=\"background-color:rgba(135,206,250,0.033503488);\">of</span> <span style=\"background-color:rgba(135,206,250,0.16679877);\">saffron</span> <span style=\"background-color:rgba(135,206,250,0.036226608);\">in</span> <span style=\"background-color:rgba(135,206,250,0.09825872);\">this</span> <span style=\"background-color:rgba(135,206,250,0.07732543);\">off</span> <span style=\"background-color:rgba(135,206,250,0.17417422);\">dry</span> <span style=\"background-color:rgba(135,206,250,0.13518836);\">riesling</span> <span style=\"background-color:rgba(135,206,250,0.114959344);\">it</span> <span style=\"background-color:rgba(135,206,250,0.094282255);\">s</span> <span style=\"background-color:rgba(135,206,250,0.13089119);\">slightly</span> <span style=\"background-color:rgba(135,206,250,0.3814131);\">austere</span> <span style=\"background-color:rgba(135,206,250,0.12598154);\">and</span> <span style=\"background-color:rgba(135,206,250,0.26530957);\">light</span> <span style=\"background-color:rgba(135,206,250,0.115890205);\">in</span> <span style=\"background-color:rgba(135,206,250,0.27115038);\">style</span> <span style=\"background-color:rgba(135,206,250,0.81356335);\">yet</span> <span style=\"background-color:rgba(135,206,250,0.67697054);\">fresh</span> <span style=\"background-color:rgba(135,206,250,0.39265153);\">with</span>"
            ]
          },
          "metadata": {}
        },
        {
          "output_type": "stream",
          "name": "stdout",
          "text": [
            "a:   \t96.18000030517578%\n",
            "an:   \t1.2200000286102295%\n",
            "crisp:   \t0.4699999988079071%\n",
            "zesty:   \t0.23999999463558197%\n",
            "juicy:   \t0.20999999344348907%\n",
            "--------\n",
            "\n"
          ]
        },
        {
          "output_type": "display_data",
          "data": {
            "text/plain": [
              "<IPython.core.display.HTML object>"
            ],
            "text/html": [
              "<span style=\"background-color:rgba(135,206,250,0.2209179);\">wine</span> <span style=\"background-color:rgba(135,206,250,0.77345353);\">review</span> <span style=\"background-color:rgba(135,206,250,0.25259644);\">:</span> <span style=\"background-color:rgba(135,206,250,0.40361276);\">germany</span> <span style=\"background-color:rgba(135,206,250,0.0657279);\">:</span> <span style=\"background-color:rgba(135,206,250,0.29817897);\">mosel</span> <span style=\"background-color:rgba(135,206,250,0.05092346);\">:</span> <span style=\"background-color:rgba(135,206,250,0.23173703);\">riesling</span> <span style=\"background-color:rgba(135,206,250,0.06613854);\">:</span> <span style=\"background-color:rgba(135,206,250,0.0988341);\">fresh</span> <span style=\"background-color:rgba(135,206,250,0.09336212);\">lime</span> <span style=\"background-color:rgba(135,206,250,0.040837772);\">and</span> <span style=\"background-color:rgba(135,206,250,0.076048516);\">lemon</span> <span style=\"background-color:rgba(135,206,250,0.13203186);\">flavors</span> <span style=\"background-color:rgba(135,206,250,0.039267942);\">are</span> <span style=\"background-color:rgba(135,206,250,0.08687167);\">accented</span> <span style=\"background-color:rgba(135,206,250,0.034178928);\">by</span> <span style=\"background-color:rgba(135,206,250,0.026781345);\">a</span> <span style=\"background-color:rgba(135,206,250,0.06460985);\">touch</span> <span style=\"background-color:rgba(135,206,250,0.03901967);\">of</span> <span style=\"background-color:rgba(135,206,250,0.15141669);\">saffron</span> <span style=\"background-color:rgba(135,206,250,0.033972207);\">in</span> <span style=\"background-color:rgba(135,206,250,0.06015891);\">this</span> <span style=\"background-color:rgba(135,206,250,0.07930257);\">off</span> <span style=\"background-color:rgba(135,206,250,0.12679352);\">dry</span> <span style=\"background-color:rgba(135,206,250,0.09350077);\">riesling</span> <span style=\"background-color:rgba(135,206,250,0.07906063);\">it</span> <span style=\"background-color:rgba(135,206,250,0.083211824);\">s</span> <span style=\"background-color:rgba(135,206,250,0.1075403);\">slightly</span> <span style=\"background-color:rgba(135,206,250,0.32019022);\">austere</span> <span style=\"background-color:rgba(135,206,250,0.09617314);\">and</span> <span style=\"background-color:rgba(135,206,250,0.20698543);\">light</span> <span style=\"background-color:rgba(135,206,250,0.16586514);\">in</span> <span style=\"background-color:rgba(135,206,250,0.21965344);\">style</span> <span style=\"background-color:rgba(135,206,250,0.50426024);\">yet</span> <span style=\"background-color:rgba(135,206,250,0.44682488);\">fresh</span> <span style=\"background-color:rgba(135,206,250,1.0);\">with</span> <span style=\"background-color:rgba(135,206,250,0.23389848);\">a</span>"
            ]
          },
          "metadata": {}
        },
        {
          "output_type": "stream",
          "name": "stdout",
          "text": [
            "long:   \t16.690000534057617%\n",
            "lingering:   \t14.029999732971191%\n",
            "brisk:   \t11.65999984741211%\n",
            "clean:   \t9.239999771118164%\n",
            "hint:   \t7.03000020980835%\n",
            "--------\n",
            "\n"
          ]
        },
        {
          "output_type": "display_data",
          "data": {
            "text/plain": [
              "<IPython.core.display.HTML object>"
            ],
            "text/html": [
              "<span style=\"background-color:rgba(135,206,250,0.17075756);\">wine</span> <span style=\"background-color:rgba(135,206,250,0.5138435);\">review</span> <span style=\"background-color:rgba(135,206,250,0.28080192);\">:</span> <span style=\"background-color:rgba(135,206,250,0.42934468);\">germany</span> <span style=\"background-color:rgba(135,206,250,0.09362554);\">:</span> <span style=\"background-color:rgba(135,206,250,0.17920397);\">mosel</span> <span style=\"background-color:rgba(135,206,250,0.072814025);\">:</span> <span style=\"background-color:rgba(135,206,250,0.25967637);\">riesling</span> <span style=\"background-color:rgba(135,206,250,0.07821047);\">:</span> <span style=\"background-color:rgba(135,206,250,0.039653867);\">fresh</span> <span style=\"background-color:rgba(135,206,250,0.07781285);\">lime</span> <span style=\"background-color:rgba(135,206,250,0.056443024);\">and</span> <span style=\"background-color:rgba(135,206,250,0.07039955);\">lemon</span> <span style=\"background-color:rgba(135,206,250,0.1560947);\">flavors</span> <span style=\"background-color:rgba(135,206,250,0.06939743);\">are</span> <span style=\"background-color:rgba(135,206,250,0.106848076);\">accented</span> <span style=\"background-color:rgba(135,206,250,0.041611224);\">by</span> <span style=\"background-color:rgba(135,206,250,0.038780402);\">a</span> <span style=\"background-color:rgba(135,206,250,0.06142409);\">touch</span> <span style=\"background-color:rgba(135,206,250,0.049947176);\">of</span> <span style=\"background-color:rgba(135,206,250,0.11280467);\">saffron</span> <span style=\"background-color:rgba(135,206,250,0.035926417);\">in</span> <span style=\"background-color:rgba(135,206,250,0.096131414);\">this</span> <span style=\"background-color:rgba(135,206,250,0.06273713);\">off</span> <span style=\"background-color:rgba(135,206,250,0.1419371);\">dry</span> <span style=\"background-color:rgba(135,206,250,0.12720844);\">riesling</span> <span style=\"background-color:rgba(135,206,250,0.12439921);\">it</span> <span style=\"background-color:rgba(135,206,250,0.109951265);\">s</span> <span style=\"background-color:rgba(135,206,250,0.074207276);\">slightly</span> <span style=\"background-color:rgba(135,206,250,0.18088438);\">austere</span> <span style=\"background-color:rgba(135,206,250,0.107350715);\">and</span> <span style=\"background-color:rgba(135,206,250,0.12661219);\">light</span> <span style=\"background-color:rgba(135,206,250,0.11798176);\">in</span> <span style=\"background-color:rgba(135,206,250,0.23896015);\">style</span> <span style=\"background-color:rgba(135,206,250,0.426398);\">yet</span> <span style=\"background-color:rgba(135,206,250,0.19921027);\">fresh</span> <span style=\"background-color:rgba(135,206,250,1.0);\">with</span> <span style=\"background-color:rgba(135,206,250,0.9599511);\">a</span> <span style=\"background-color:rgba(135,206,250,0.53681886);\">clean</span>"
            ]
          },
          "metadata": {}
        },
        {
          "output_type": "stream",
          "name": "stdout",
          "text": [
            "finish:   \t43.11000061035156%\n",
            "brisk:   \t17.309999465942383%\n",
            "refreshing:   \t7.900000095367432%\n",
            "crisp:   \t7.53000020980835%\n",
            "minerally:   \t5.440000057220459%\n",
            "--------\n",
            "\n"
          ]
        },
        {
          "output_type": "display_data",
          "data": {
            "text/plain": [
              "<IPython.core.display.HTML object>"
            ],
            "text/html": [
              "<span style=\"background-color:rgba(135,206,250,0.16806564);\">wine</span> <span style=\"background-color:rgba(135,206,250,0.5414459);\">review</span> <span style=\"background-color:rgba(135,206,250,0.18817869);\">:</span> <span style=\"background-color:rgba(135,206,250,0.409991);\">germany</span> <span style=\"background-color:rgba(135,206,250,0.07832968);\">:</span> <span style=\"background-color:rgba(135,206,250,0.21734636);\">mosel</span> <span style=\"background-color:rgba(135,206,250,0.061507314);\">:</span> <span style=\"background-color:rgba(135,206,250,0.30017078);\">riesling</span> <span style=\"background-color:rgba(135,206,250,0.07702358);\">:</span> <span style=\"background-color:rgba(135,206,250,0.055141374);\">fresh</span> <span style=\"background-color:rgba(135,206,250,0.093284674);\">lime</span> <span style=\"background-color:rgba(135,206,250,0.046575073);\">and</span> <span style=\"background-color:rgba(135,206,250,0.08255075);\">lemon</span> <span style=\"background-color:rgba(135,206,250,0.20908438);\">flavors</span> <span style=\"background-color:rgba(135,206,250,0.055457357);\">are</span> <span style=\"background-color:rgba(135,206,250,0.07918071);\">accented</span> <span style=\"background-color:rgba(135,206,250,0.03326785);\">by</span> <span style=\"background-color:rgba(135,206,250,0.042185698);\">a</span> <span style=\"background-color:rgba(135,206,250,0.0440975);\">touch</span> <span style=\"background-color:rgba(135,206,250,0.044193972);\">of</span> <span style=\"background-color:rgba(135,206,250,0.12100181);\">saffron</span> <span style=\"background-color:rgba(135,206,250,0.032948796);\">in</span> <span style=\"background-color:rgba(135,206,250,0.10419839);\">this</span> <span style=\"background-color:rgba(135,206,250,0.05792933);\">off</span> <span style=\"background-color:rgba(135,206,250,0.16475803);\">dry</span> <span style=\"background-color:rgba(135,206,250,0.14024895);\">riesling</span> <span style=\"background-color:rgba(135,206,250,0.13184606);\">it</span> <span style=\"background-color:rgba(135,206,250,0.09368759);\">s</span> <span style=\"background-color:rgba(135,206,250,0.0642048);\">slightly</span> <span style=\"background-color:rgba(135,206,250,0.18134946);\">austere</span> <span style=\"background-color:rgba(135,206,250,0.08823384);\">and</span> <span style=\"background-color:rgba(135,206,250,0.12859914);\">light</span> <span style=\"background-color:rgba(135,206,250,0.109650955);\">in</span> <span style=\"background-color:rgba(135,206,250,0.23639718);\">style</span> <span style=\"background-color:rgba(135,206,250,0.24059673);\">yet</span> <span style=\"background-color:rgba(135,206,250,0.15691848);\">fresh</span> <span style=\"background-color:rgba(135,206,250,0.95665795);\">with</span> <span style=\"background-color:rgba(135,206,250,1.0);\">a</span> <span style=\"background-color:rgba(135,206,250,0.8883829);\">clean</span> <span style=\"background-color:rgba(135,206,250,0.6616488);\">refreshing</span>"
            ]
          },
          "metadata": {}
        },
        {
          "output_type": "stream",
          "name": "stdout",
          "text": [
            "finish:   \t98.76000213623047%\n",
            "minerality:   \t0.5099999904632568%\n",
            "acidity:   \t0.2199999988079071%\n",
            "mouthfeel:   \t0.07999999821186066%\n",
            "streak:   \t0.07000000029802322%\n",
            "--------\n",
            "\n"
          ]
        },
        {
          "output_type": "display_data",
          "data": {
            "text/plain": [
              "<IPython.core.display.HTML object>"
            ],
            "text/html": [
              "<span style=\"background-color:rgba(135,206,250,0.252694);\">wine</span> <span style=\"background-color:rgba(135,206,250,1.0);\">review</span> <span style=\"background-color:rgba(135,206,250,0.38542512);\">:</span> <span style=\"background-color:rgba(135,206,250,0.48944965);\">germany</span> <span style=\"background-color:rgba(135,206,250,0.15456842);\">:</span> <span style=\"background-color:rgba(135,206,250,0.2638882);\">mosel</span> <span style=\"background-color:rgba(135,206,250,0.107326776);\">:</span> <span style=\"background-color:rgba(135,206,250,0.15160686);\">riesling</span> <span style=\"background-color:rgba(135,206,250,0.1028716);\">:</span> <span style=\"background-color:rgba(135,206,250,0.08113573);\">fresh</span> <span style=\"background-color:rgba(135,206,250,0.089392416);\">lime</span> <span style=\"background-color:rgba(135,206,250,0.044802565);\">and</span> <span style=\"background-color:rgba(135,206,250,0.0886758);\">lemon</span> <span style=\"background-color:rgba(135,206,250,0.12846115);\">flavors</span> <span style=\"background-color:rgba(135,206,250,0.06949609);\">are</span> <span style=\"background-color:rgba(135,206,250,0.09667307);\">accented</span> <span style=\"background-color:rgba(135,206,250,0.07356537);\">by</span> <span style=\"background-color:rgba(135,206,250,0.05489804);\">a</span> <span style=\"background-color:rgba(135,206,250,0.077607624);\">touch</span> <span style=\"background-color:rgba(135,206,250,0.03794498);\">of</span> <span style=\"background-color:rgba(135,206,250,0.08330247);\">saffron</span> <span style=\"background-color:rgba(135,206,250,0.033636756);\">in</span> <span style=\"background-color:rgba(135,206,250,0.13667566);\">this</span> <span style=\"background-color:rgba(135,206,250,0.0686377);\">off</span> <span style=\"background-color:rgba(135,206,250,0.13275807);\">dry</span> <span style=\"background-color:rgba(135,206,250,0.08869257);\">riesling</span> <span style=\"background-color:rgba(135,206,250,0.23073876);\">it</span> <span style=\"background-color:rgba(135,206,250,0.14405644);\">s</span> <span style=\"background-color:rgba(135,206,250,0.113044344);\">slightly</span> <span style=\"background-color:rgba(135,206,250,0.34248084);\">austere</span> <span style=\"background-color:rgba(135,206,250,0.06675267);\">and</span> <span style=\"background-color:rgba(135,206,250,0.20531344);\">light</span> <span style=\"background-color:rgba(135,206,250,0.10542668);\">in</span> <span style=\"background-color:rgba(135,206,250,0.2083799);\">style</span> <span style=\"background-color:rgba(135,206,250,0.27798596);\">yet</span> <span style=\"background-color:rgba(135,206,250,0.21305133);\">fresh</span> <span style=\"background-color:rgba(135,206,250,0.89937663);\">with</span> <span style=\"background-color:rgba(135,206,250,0.7700466);\">a</span> <span style=\"background-color:rgba(135,206,250,0.7313153);\">clean</span> <span style=\"background-color:rgba(135,206,250,0.8784969);\">refreshing</span> <span style=\"background-color:rgba(135,206,250,0.6028362);\">finish</span>"
            ]
          },
          "metadata": {}
        },
        {
          "output_type": "stream",
          "name": "stdout",
          "text": [
            ":   \t99.36000061035156%\n",
            "drink:   \t0.6000000238418579%\n",
            "it:   \t0.009999999776482582%\n",
            "that:   \t0.009999999776482582%\n",
            "a:   \t0.0%\n",
            "--------\n",
            "\n"
          ]
        }
      ]
    },
    {
      "cell_type": "code",
      "source": [],
      "metadata": {
        "id": "w0diNBk6iqHG"
      },
      "execution_count": null,
      "outputs": []
    },
    {
      "cell_type": "code",
      "source": [],
      "metadata": {
        "id": "S5IcChW0oZFp"
      },
      "execution_count": null,
      "outputs": []
    }
  ]
}